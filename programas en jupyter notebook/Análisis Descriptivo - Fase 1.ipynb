{
 "cells": [
  {
   "cell_type": "markdown",
   "id": "0cfa9fdf",
   "metadata": {},
   "source": [
    "# <center>Análisis Descriptivo de la Temporada 21-22</center>"
   ]
  },
  {
   "cell_type": "code",
   "execution_count": 1,
   "id": "9ebe1621",
   "metadata": {},
   "outputs": [],
   "source": [
    "import pandas as pd\n",
    "import os\n",
    "import matplotlib.pyplot as plt\n",
    "import numpy as np\n",
    "from scipy.stats import friedmanchisquare, wilcoxon\n",
    "from scipy.stats import kruskal\n",
    "import statsmodels.stats.multicomp as mc\n",
    "from scipy import stats"
   ]
  },
  {
   "cell_type": "markdown",
   "id": "8d2bdaa7",
   "metadata": {},
   "source": [
    "### Cargamos los datos de la temporada 21-22 de la Premier League (Inglaterra):"
   ]
  },
  {
   "cell_type": "code",
   "execution_count": 2,
   "id": "becf2d9d",
   "metadata": {},
   "outputs": [],
   "source": [
    "#Cargamos el fichero\n",
    "data_PremierLeague_2122 = pd.read_excel(\"../datasets/Premier League.xlsx\", sheet_name = \"2122\")"
   ]
  },
  {
   "cell_type": "code",
   "execution_count": 3,
   "id": "ad03e38e",
   "metadata": {},
   "outputs": [],
   "source": [
    "#Imprimimos las primeras las primeras filas para comprobar\n",
    "#data_PremierLeague_2122.head()"
   ]
  },
  {
   "cell_type": "markdown",
   "id": "393652ef",
   "metadata": {},
   "source": [
    "### Cargamos los datos de la temporada 21-22 de la La Liga (España):"
   ]
  },
  {
   "cell_type": "code",
   "execution_count": 4,
   "id": "45513266",
   "metadata": {},
   "outputs": [],
   "source": [
    "#Cargamos el fichero\n",
    "data_LaLiga_2122 = pd.read_excel(\"../datasets/La Liga.xlsx\", sheet_name = \"2122\")"
   ]
  },
  {
   "cell_type": "code",
   "execution_count": 5,
   "id": "c887962d",
   "metadata": {},
   "outputs": [],
   "source": [
    "#Imprimimos las primeras las primeras filas para comprobar\n",
    "#data_LaLiga_2122.head()"
   ]
  },
  {
   "cell_type": "markdown",
   "id": "b8fa071f",
   "metadata": {},
   "source": [
    "### Cargamos los datos de la temporada 21-22 de la Serie A (Italia):"
   ]
  },
  {
   "cell_type": "code",
   "execution_count": 6,
   "id": "8ba72ae5",
   "metadata": {},
   "outputs": [],
   "source": [
    "#Cargamos el fichero\n",
    "data_SerieA_2122 = pd.read_excel(\"../datasets/Serie A.xlsx\", sheet_name = \"2122\")"
   ]
  },
  {
   "cell_type": "code",
   "execution_count": 7,
   "id": "6a69ce4e",
   "metadata": {},
   "outputs": [],
   "source": [
    "#Imprimimos las primeras las primeras filas para comprobar\n",
    "#data_SerieA_2122.head()"
   ]
  },
  {
   "cell_type": "markdown",
   "id": "49a4c77b",
   "metadata": {},
   "source": [
    "### Cargamos los datos de la temporada 21-22 de la Ligue 1 (Francesa):"
   ]
  },
  {
   "cell_type": "code",
   "execution_count": 8,
   "id": "97266f2a",
   "metadata": {},
   "outputs": [],
   "source": [
    "#Cargamos el fichero\n",
    "data_Ligue1_2122 = pd.read_excel(\"../datasets/Ligue 1.xlsx\", sheet_name = \"2122\")"
   ]
  },
  {
   "cell_type": "code",
   "execution_count": 9,
   "id": "0845249b",
   "metadata": {},
   "outputs": [],
   "source": [
    "#Imprimimos las primeras las primeras filas para comprobar\n",
    "#data_Ligue1_2122.head()"
   ]
  },
  {
   "cell_type": "markdown",
   "id": "fc292d34",
   "metadata": {},
   "source": [
    "### Cargamos los datos de la temporada 21-22 de la Bundesliga (Alemania):"
   ]
  },
  {
   "cell_type": "code",
   "execution_count": 10,
   "id": "4ce647e5",
   "metadata": {},
   "outputs": [],
   "source": [
    "#Cargamos el fichero\n",
    "data_Bundesliga_2122 = pd.read_excel(\"../datasets/Bundesliga.xlsx\", sheet_name = \"2122\")"
   ]
  },
  {
   "cell_type": "code",
   "execution_count": 11,
   "id": "692cd441",
   "metadata": {},
   "outputs": [],
   "source": [
    "#Imprimimos las primeras las primeras filas para comprobar\n",
    "#data_Bundesliga_2122.head()"
   ]
  },
  {
   "cell_type": "markdown",
   "id": "fa7f2107",
   "metadata": {},
   "source": [
    "# <center>Separación en 4 grupos</center>\n",
    "* Las ligas: **Premier League**, **La Liga**, **Ligue 1** y **Serie A** tiene 20 equipos por temporada. Para estas ligas vamos a separar los equipos en los siguientes grupos según la posición en la que quedaron al finalizar la temprtada (columna **Rk**):\n",
    "    + *Grupo 1* -> {1 - 5}\n",
    "    + *Grupo 2* -> {6 - 10}\n",
    "    + *Grupo 3* -> {11 - 15}\n",
    "    + *Grupo 4* -> {16 - 20}\n",
    "\n",
    "\n",
    "* A diferencia del resto, la **Bundesliga** tiene 18 equipos por temporada. Para esta liga realizaremos la siguiete separación:\n",
    "    + *Grupo 1* -> {1 - 4}\n",
    "    + *Grupo 2* -> {5 - 9}\n",
    "    + *Grupo 3* -> {10 - 14}\n",
    "    + *Grupo 4* -> {15 - 18}\n",
    "    \n",
    "\n",
    "Para realizar la separación crearemos una nueva columa a la que llamaremos ***Group*** y podrá tener los valores { \"1\", \"2\", \"3\", \"4\" }"
   ]
  },
  {
   "cell_type": "markdown",
   "id": "502d3708",
   "metadata": {},
   "source": [
    "### Para la Premier:"
   ]
  },
  {
   "cell_type": "code",
   "execution_count": 12,
   "id": "e7014aab",
   "metadata": {},
   "outputs": [],
   "source": [
    "data_PremierLeague_2122[\"Group\"] = \"1\"\n",
    "data_PremierLeague_2122.loc[((data_PremierLeague_2122['Rk'] > 5) & (data_PremierLeague_2122['Rk'] < 11)), 'Group'] = \"2\"\n",
    "data_PremierLeague_2122.loc[((data_PremierLeague_2122['Rk'] > 10) & (data_PremierLeague_2122['Rk'] < 16)), 'Group'] = \"3\"\n",
    "data_PremierLeague_2122.loc[((data_PremierLeague_2122['Rk'] > 15) & (data_PremierLeague_2122['Rk'] < 21)), 'Group'] = \"4\"\n",
    "\n",
    "# Para imprimir solo las columnas \"Rk\", \"Squad\" y \"Group\" para comprobar:\n",
    "# print(data_PremierLeague_2122[['Rk', 'Squad', 'Group']])"
   ]
  },
  {
   "cell_type": "markdown",
   "id": "ad30713b",
   "metadata": {},
   "source": [
    "### Para la La Liga:"
   ]
  },
  {
   "cell_type": "code",
   "execution_count": 13,
   "id": "1d84f077",
   "metadata": {},
   "outputs": [],
   "source": [
    "data_LaLiga_2122[\"Group\"] = \"1\"\n",
    "data_LaLiga_2122.loc[((data_LaLiga_2122['Rk'] > 5) & (data_LaLiga_2122['Rk'] < 11)), 'Group'] = \"2\"\n",
    "data_LaLiga_2122.loc[((data_LaLiga_2122['Rk'] > 10) & (data_LaLiga_2122['Rk'] < 16)), 'Group'] = \"3\"\n",
    "data_LaLiga_2122.loc[((data_LaLiga_2122['Rk'] > 15) & (data_LaLiga_2122['Rk'] < 21)), 'Group'] = \"4\"\n",
    "\n",
    "# Para imprimir solo las columnas \"Rk\", \"Squad\" y \"Group\" para comprobar:\n",
    "# print(data_LaLiga_2122[['Rk', 'Squad', 'Group']])"
   ]
  },
  {
   "cell_type": "markdown",
   "id": "28ff7e2f",
   "metadata": {},
   "source": [
    "### Para la Serie A:"
   ]
  },
  {
   "cell_type": "code",
   "execution_count": 14,
   "id": "df5fbaa2",
   "metadata": {},
   "outputs": [],
   "source": [
    "data_SerieA_2122[\"Group\"] = \"1\"\n",
    "data_SerieA_2122.loc[((data_SerieA_2122['Rk'] > 5) & (data_SerieA_2122['Rk'] < 11)), 'Group'] = \"2\"\n",
    "data_SerieA_2122.loc[((data_SerieA_2122['Rk'] > 10) & (data_SerieA_2122['Rk'] < 16)), 'Group'] = \"3\"\n",
    "data_SerieA_2122.loc[((data_SerieA_2122['Rk'] > 15) & (data_SerieA_2122['Rk'] < 21)), 'Group'] = \"4\"\n",
    "\n",
    "# Para imprimir solo las columnas \"Rk\", \"Squad\" y \"Group\" para comprobar:\n",
    "# print(data_SerieA_2122[['Rk', 'Squad', 'Group']])"
   ]
  },
  {
   "cell_type": "markdown",
   "id": "04585c8b",
   "metadata": {},
   "source": [
    "### Para la Ligue 1:"
   ]
  },
  {
   "cell_type": "code",
   "execution_count": 15,
   "id": "748ae38f",
   "metadata": {},
   "outputs": [],
   "source": [
    "data_Ligue1_2122[\"Group\"] = \"1\"\n",
    "data_Ligue1_2122.loc[((data_Ligue1_2122['Rk'] > 5) & (data_Ligue1_2122['Rk'] < 11)), 'Group'] = \"2\"\n",
    "data_Ligue1_2122.loc[((data_Ligue1_2122['Rk'] > 10) & (data_Ligue1_2122['Rk'] < 16)), 'Group'] = \"3\"\n",
    "data_Ligue1_2122.loc[((data_Ligue1_2122['Rk'] > 15) & (data_Ligue1_2122['Rk'] < 21)), 'Group'] = \"4\"\n",
    "\n",
    "# Para imprimir solo las columnas \"Rk\", \"Squad\" y \"Group\" para comprobar:\n",
    "# print(data_Ligue1_2122[['Rk', 'Squad', 'Group']])"
   ]
  },
  {
   "cell_type": "markdown",
   "id": "915cae40",
   "metadata": {},
   "source": [
    "### Para la Bundesliga:"
   ]
  },
  {
   "cell_type": "code",
   "execution_count": 16,
   "id": "8e2aee29",
   "metadata": {},
   "outputs": [],
   "source": [
    "data_Bundesliga_2122[\"Group\"] = \"1\"\n",
    "data_Bundesliga_2122.loc[((data_Bundesliga_2122['Rk'] > 4) & (data_Bundesliga_2122['Rk'] < 10)), 'Group'] = \"2\"\n",
    "data_Bundesliga_2122.loc[((data_Bundesliga_2122['Rk'] > 9) & (data_Bundesliga_2122['Rk'] < 15)), 'Group'] = \"3\"\n",
    "data_Bundesliga_2122.loc[((data_Bundesliga_2122['Rk'] > 14) & (data_Bundesliga_2122['Rk'] < 19)), 'Group'] = \"4\"\n",
    "\n",
    "# Para imprimir solo las columnas \"Rk\", \"Squad\" y \"Group\" para comprobar:\n",
    "# print(data_Bundesliga_2122[['Rk', 'Squad', 'Group']])"
   ]
  },
  {
   "cell_type": "markdown",
   "id": "63eedd1d",
   "metadata": {},
   "source": [
    "# <center>Boxplots</center>"
   ]
  },
  {
   "cell_type": "markdown",
   "id": "2e670a4f",
   "metadata": {},
   "source": [
    "### Creo dos funciones para reducir el código"
   ]
  },
  {
   "cell_type": "code",
   "execution_count": 17,
   "id": "d6d4ac6c",
   "metadata": {},
   "outputs": [],
   "source": [
    "#Para la Premier:\n",
    "def generador_de_tablas_grupos_premier(a, b):\n",
    "    df_PL = data_PremierLeague_2122[[a, b]]\n",
    "    df_PLG1 = df_PL[df_PL[a] == \"1\"][b]\n",
    "    df_PLG2 = df_PL[df_PL[a] == \"2\"][b]\n",
    "    df_PLG3 = df_PL[df_PL[a] == \"3\"][b]\n",
    "    df_PLG4 = df_PL[df_PL[a] == \"4\"][b]\n",
    "    return df_PLG1, df_PLG2, df_PLG3, df_PLG4\n",
    "\n",
    "#Para la La Liga:\n",
    "def generador_de_tablas_grupos_laliga(a, b):\n",
    "    df_LL = data_LaLiga_2122[[a, b]]\n",
    "    df_LLG1 = df_LL[df_LL[a] == \"1\"][b]\n",
    "    df_LLG2 = df_LL[df_LL[a] == \"2\"][b]\n",
    "    df_LLG3 = df_LL[df_LL[a] == \"3\"][b]\n",
    "    df_LLG4 = df_LL[df_LL[a] == \"4\"][b]\n",
    "    return df_LLG1, df_LLG2, df_LLG3, df_LLG4\n",
    "\n",
    "#Para la Serie A:\n",
    "def generador_de_tablas_grupos_seriea(a, b):\n",
    "    df_SA = data_SerieA_2122[[a, b]]\n",
    "    df_SAG1 = df_SA[df_SA[a] == \"1\"][b]\n",
    "    df_SAG2 = df_SA[df_SA[a] == \"2\"][b]\n",
    "    df_SAG3 = df_SA[df_SA[a] == \"3\"][b]\n",
    "    df_SAG4 = df_SA[df_SA[a] == \"4\"][b]\n",
    "    return df_SAG1, df_SAG2, df_SAG3, df_SAG4\n",
    "\n",
    "#Para la Ligue 1:\n",
    "def generador_de_tablas_grupos_ligue1(a, b):\n",
    "    df_L1 = data_Ligue1_2122[[a, b]]\n",
    "    df_L1G1 = df_L1[df_L1[a] == \"1\"][b]\n",
    "    df_L1G2 = df_L1[df_L1[a] == \"2\"][b]\n",
    "    df_L1G3 = df_L1[df_L1[a] == \"3\"][b]\n",
    "    df_L1G4 = df_L1[df_L1[a] == \"4\"][b]\n",
    "    return df_L1G1, df_L1G2, df_L1G3, df_L1G4\n",
    "\n",
    "#Para la Bundesliga:\n",
    "def generador_de_tablas_grupos_bundesliga(a, b):\n",
    "    df_BL = data_Bundesliga_2122[[a, b]]\n",
    "    df_BLG1 = df_BL[df_BL[a] == \"1\"][b]\n",
    "    df_BLG2 = df_BL[df_BL[a] == \"2\"][b]\n",
    "    df_BLG3 = df_BL[df_BL[a] == \"3\"][b]\n",
    "    df_BLG4 = df_BL[df_BL[a] == \"4\"][b]\n",
    "    return df_BLG1, df_BLG2, df_BLG3, df_BLG4"
   ]
  },
  {
   "cell_type": "code",
   "execution_count": 18,
   "id": "5071eccb",
   "metadata": {},
   "outputs": [],
   "source": [
    "def crear_boxplot_grupos(titulo, variable, L_PL, L_LL, L_SA, L_L1, L_BL):\n",
    "    labels = ['G1', 'G2', 'G3', 'G4']\n",
    "    fs = 12\n",
    "    fig, axs = plt.subplots(nrows=1, ncols=6, figsize=(14, 3), sharey=True)\n",
    "    fig.suptitle(t = titulo, verticalalignment = \"bottom\", fontsize = 16, fontweight = 550)\n",
    "\n",
    "    #Para la Premier:\n",
    "    axs[0].boxplot([L_PL[0], L_PL[1], L_PL[2], L_PL[3]], labels = labels)\n",
    "    axs[0].set_title('Premier League', fontsize=fs)\n",
    "\n",
    "    #Para la La Liga:\n",
    "    axs[1].boxplot([L_LL[0], L_LL[1], L_LL[2], L_LL[3]], labels = labels)\n",
    "    axs[1].set_title('La Liga', fontsize=fs)\n",
    "\n",
    "    #Para la Serie A:\n",
    "    axs[2].boxplot([L_SA[0], L_SA[1], L_SA[2], L_SA[3]], labels = labels)\n",
    "    axs[2].set_title('Serie A', fontsize=fs)\n",
    "\n",
    "    #Para la Ligue 1:\n",
    "    axs[3].boxplot([L_L1[0], L_L1[1], L_L1[2], L_L1[3]], labels = labels)\n",
    "    axs[3].set_title('Ligue 1', fontsize=fs)\n",
    "\n",
    "    #Para la Bundesliga:\n",
    "    axs[4].boxplot([L_BL[0], L_BL[1], L_BL[2], L_BL[3]], labels = labels)\n",
    "    axs[4].set_title('Bundesliga', fontsize=fs)\n",
    "    \n",
    "    #Para las cinco ligas:\n",
    "    labels2 = ['PL', 'LL', 'SA', 'L1', 'BL']\n",
    "    axs[5].boxplot([data_PremierLeague_2122[variable], data_LaLiga_2122[variable], data_SerieA_2122[variable], data_Ligue1_2122[variable], data_Bundesliga_2122[variable]], labels = labels2)\n",
    "    axs[5].set_title('Cinco ligas', fontsize=fs)\n",
    "    \n",
    "    \n",
    "    return None"
   ]
  },
  {
   "cell_type": "markdown",
   "id": "c1429d36",
   "metadata": {},
   "source": [
    "## <center>Comaparación de GoalsFavor"
   ]
  },
  {
   "cell_type": "code",
   "execution_count": 19,
   "id": "5327e5f5",
   "metadata": {},
   "outputs": [
    {
     "data": {
      "image/png": "[encoded data removed]",
      "text/plain": [
       "<Figure size 1400x300 with 6 Axes>"
      ]
     },
     "metadata": {},
     "output_type": "display_data"
    }
   ],
   "source": [
    "a = \"Group\"\n",
    "b = \"GoalsFavor\"\n",
    "L_PL = generador_de_tablas_grupos_premier(a, b)\n",
    "L_LL = generador_de_tablas_grupos_laliga(a, b)\n",
    "L_SA = generador_de_tablas_grupos_seriea(a, b)\n",
    "L_L1 = generador_de_tablas_grupos_ligue1(a, b)\n",
    "L_BL = generador_de_tablas_grupos_bundesliga(a, b)\n",
    "\n",
    "variable = \"GoalsFavor\"\n",
    "titulo = 'Comaparación de goles a favor (GoalsFavor)'\n",
    "crear_boxplot_grupos(titulo, variable, L_PL, L_LL, L_SA, L_L1, L_BL)"
   ]
  },
  {
   "cell_type": "markdown",
   "id": "9c580b0b",
   "metadata": {},
   "source": [
    "### <center>Test de Shapiro-Wilk</center>"
   ]
  },
  {
   "cell_type": "code",
   "execution_count": 20,
   "id": "c951ef20",
   "metadata": {},
   "outputs": [],
   "source": [
    "columna_concreta = pd.concat([data_PremierLeague_2122[\"GoalsFavor\"], data_LaLiga_2122[\"GoalsFavor\"], data_SerieA_2122[\"GoalsFavor\"], data_Ligue1_2122[\"GoalsFavor\"], data_Bundesliga_2122[\"GoalsFavor\"]])"
   ]
  },
  {
   "cell_type": "code",
   "execution_count": 21,
   "id": "66cbca67",
   "metadata": {},
   "outputs": [
    {
     "data": {
      "text/plain": [
       "ShapiroResult(statistic=0.9489926695823669, pvalue=0.0008200344163924456)"
      ]
     },
     "execution_count": 21,
     "metadata": {},
     "output_type": "execute_result"
    }
   ],
   "source": [
    "shapiro_test = stats.shapiro(columna_concreta)\n",
    "shapiro_test"
   ]
  },
  {
   "cell_type": "markdown",
   "id": "f7fe6b81",
   "metadata": {},
   "source": [
    "#### Entre los grupos de la Premier League:"
   ]
  },
  {
   "cell_type": "code",
   "execution_count": 22,
   "id": "98fb0a33",
   "metadata": {},
   "outputs": [],
   "source": [
    "# Creación de los 4 vectores nuevos\n",
    "group1 = []\n",
    "group2 = []\n",
    "group3 = []\n",
    "group4 = []\n",
    "\n",
    "# Iteración sobre las mediciones y categorías correspondientes\n",
    "for i in range(len(data_PremierLeague_2122[\"GoalsFavor\"])):\n",
    "    if data_PremierLeague_2122[\"Group\"][i] == '1':\n",
    "        group1.append(data_PremierLeague_2122[\"GoalsFavor\"][i])\n",
    "    elif data_PremierLeague_2122[\"Group\"][i] == '2':\n",
    "        group2.append(data_PremierLeague_2122[\"GoalsFavor\"][i])\n",
    "    elif data_PremierLeague_2122[\"Group\"][i] == '3':\n",
    "        group3.append(data_PremierLeague_2122[\"GoalsFavor\"][i])\n",
    "    elif data_PremierLeague_2122[\"Group\"][i] == '4':\n",
    "        group4.append(data_PremierLeague_2122[\"GoalsFavor\"][i])"
   ]
  },
  {
   "cell_type": "markdown",
   "id": "c11f7260",
   "metadata": {},
   "source": [
    "### <center>Test de Kruskal-Wallis\n",
    "* La hipótesis nula (H0): La media de los cuatro grupos es igual.\n",
    "\n",
    "* La hipótesis alternativa: (Ha): Almenos un grupo es diferente del resto."
   ]
  },
  {
   "cell_type": "code",
   "execution_count": 23,
   "id": "64166933",
   "metadata": {},
   "outputs": [
    {
     "data": {
      "text/plain": [
       "KruskalResult(statistic=14.108967596081376, pvalue=0.002760519470963145)"
      ]
     },
     "execution_count": 23,
     "metadata": {},
     "output_type": "execute_result"
    }
   ],
   "source": [
    "kruskal(group1, group2, group3, group4)"
   ]
  },
  {
   "cell_type": "markdown",
   "id": "9c55235c",
   "metadata": {},
   "source": [
    "### <center>Prueba de Tukey"
   ]
  },
  {
   "cell_type": "code",
   "execution_count": 24,
   "id": "b4ffc9a6",
   "metadata": {},
   "outputs": [
    {
     "name": "stdout",
     "output_type": "stream",
     "text": [
      "Multiple Comparison of Means - Tukey HSD, FWER=0.05 \n",
      "====================================================\n",
      "group1 group2 meandiff p-adj   lower   upper  reject\n",
      "----------------------------------------------------\n",
      "group1 group2    -28.0 0.0041 -47.497  -8.503   True\n",
      "group1 group3    -32.4 0.0011 -51.897 -12.903   True\n",
      "group1 group4    -44.6    0.0 -64.097 -25.103   True\n",
      "group2 group3     -4.4 0.9155 -23.897  15.097  False\n",
      "group2 group4    -16.6   0.11 -36.097   2.897  False\n",
      "group3 group4    -12.2 0.3135 -31.697   7.297  False\n",
      "----------------------------------------------------\n"
     ]
    }
   ],
   "source": [
    "# Juntar los datos en una sola lista\n",
    "data = group1 + group2 + group3 + group4\n",
    "\n",
    "# Crear una lista de etiquetas para los grupos\n",
    "labels = ['group1'] * len(group1) + ['group2'] * len(group2) + ['group3'] * len(group3) + ['group4'] * len(group4)\n",
    "\n",
    "# Crear un dataframe con los datos y las etiquetas\n",
    "df = pd.DataFrame({'data': data, 'labels': labels})\n",
    "\n",
    "# Realizar el test de Tukey\n",
    "tukey_results = mc.pairwise_tukeyhsd(df['data'], df['labels'])\n",
    "\n",
    "# Imprimir los resultados\n",
    "print(tukey_results)"
   ]
  },
  {
   "cell_type": "markdown",
   "id": "8e174ecf",
   "metadata": {},
   "source": [
    "#### Entre los grupos de la La Liga:"
   ]
  },
  {
   "cell_type": "code",
   "execution_count": 25,
   "id": "7d4f8af6",
   "metadata": {},
   "outputs": [],
   "source": [
    "# Creación de los 4 vectores nuevos\n",
    "group1 = []\n",
    "group2 = []\n",
    "group3 = []\n",
    "group4 = []\n",
    "\n",
    "# Iteración sobre las mediciones y categorías correspondientes\n",
    "for i in range(len(data_LaLiga_2122[\"GoalsFavor\"])):\n",
    "    if data_LaLiga_2122[\"Group\"][i] == '1':\n",
    "        group1.append(data_LaLiga_2122[\"GoalsFavor\"][i])\n",
    "    elif data_LaLiga_2122[\"Group\"][i] == '2':\n",
    "        group2.append(data_LaLiga_2122[\"GoalsFavor\"][i])\n",
    "    elif data_LaLiga_2122[\"Group\"][i] == '3':\n",
    "        group3.append(data_LaLiga_2122[\"GoalsFavor\"][i])\n",
    "    elif data_LaLiga_2122[\"Group\"][i] == '4':\n",
    "        group4.append(data_LaLiga_2122[\"GoalsFavor\"][i])"
   ]
  },
  {
   "cell_type": "markdown",
   "id": "a3d84f0c",
   "metadata": {},
   "source": [
    "### <center>Test de Kruskal-Wallis\n",
    "* La hipótesis nula (H0): La media de los cuatro grupos es igual.\n",
    "\n",
    "* La hipótesis alternativa: (Ha): Almenos un grupo es diferente del resto."
   ]
  },
  {
   "cell_type": "code",
   "execution_count": 26,
   "id": "5b14f0a4",
   "metadata": {},
   "outputs": [
    {
     "data": {
      "text/plain": [
       "KruskalResult(statistic=11.055849056603765, pvalue=0.011427680239600523)"
      ]
     },
     "execution_count": 26,
     "metadata": {},
     "output_type": "execute_result"
    }
   ],
   "source": [
    "kruskal(group1, group2, group3, group4)"
   ]
  },
  {
   "cell_type": "markdown",
   "id": "1117c740",
   "metadata": {},
   "source": [
    "### <center>Prueba de Tukey"
   ]
  },
  {
   "cell_type": "code",
   "execution_count": 27,
   "id": "be4cc5be",
   "metadata": {},
   "outputs": [
    {
     "name": "stdout",
     "output_type": "stream",
     "text": [
      " Multiple Comparison of Means - Tukey HSD, FWER=0.05  \n",
      "======================================================\n",
      "group1 group2 meandiff p-adj   lower    upper   reject\n",
      "------------------------------------------------------\n",
      "group1 group2    -19.4 0.0099 -34.5066  -4.2934   True\n",
      "group1 group3    -26.6 0.0006 -41.7066 -11.4934   True\n",
      "group1 group4    -26.2 0.0007 -41.3066 -11.0934   True\n",
      "group2 group3     -7.2 0.5384 -22.3066   7.9066  False\n",
      "group2 group4     -6.8 0.5832 -21.9066   8.3066  False\n",
      "group3 group4      0.4 0.9998 -14.7066  15.5066  False\n",
      "------------------------------------------------------\n"
     ]
    }
   ],
   "source": [
    "# Juntar los datos en una sola lista\n",
    "data = group1 + group2 + group3 + group4\n",
    "\n",
    "# Crear una lista de etiquetas para los grupos\n",
    "labels = ['group1'] * len(group1) + ['group2'] * len(group2) + ['group3'] * len(group3) + ['group4'] * len(group4)\n",
    "\n",
    "# Crear un dataframe con los datos y las etiquetas\n",
    "df = pd.DataFrame({'data': data, 'labels': labels})\n",
    "\n",
    "# Realizar el test de Tukey\n",
    "tukey_results = mc.pairwise_tukeyhsd(df['data'], df['labels'])\n",
    "\n",
    "# Imprimir los resultados\n",
    "print(tukey_results)"
   ]
  },
  {
   "cell_type": "markdown",
   "id": "586cc1ca",
   "metadata": {},
   "source": [
    "#### Entre los grupos de la Serie A:"
   ]
  },
  {
   "cell_type": "code",
   "execution_count": 28,
   "id": "74556a2d",
   "metadata": {},
   "outputs": [],
   "source": [
    "# Creación de los 4 vectores nuevos\n",
    "group1 = []\n",
    "group2 = []\n",
    "group3 = []\n",
    "group4 = []\n",
    "\n",
    "# Iteración sobre las mediciones y categorías correspondientes\n",
    "for i in range(len(data_SerieA_2122[\"GoalsFavor\"])):\n",
    "    if data_SerieA_2122[\"Group\"][i] == '1':\n",
    "        group1.append(data_SerieA_2122[\"GoalsFavor\"][i])\n",
    "    elif data_SerieA_2122[\"Group\"][i] == '2':\n",
    "        group2.append(data_SerieA_2122[\"GoalsFavor\"][i])\n",
    "    elif data_SerieA_2122[\"Group\"][i] == '3':\n",
    "        group3.append(data_SerieA_2122[\"GoalsFavor\"][i])\n",
    "    elif data_SerieA_2122[\"Group\"][i] == '4':\n",
    "        group4.append(data_SerieA_2122[\"GoalsFavor\"][i])"
   ]
  },
  {
   "cell_type": "markdown",
   "id": "26ae16bf",
   "metadata": {},
   "source": [
    "### <center>Test de Kruskal-Wallis\n",
    "* La hipótesis nula (H0): La media de los cuatro grupos es igual.\n",
    "\n",
    "* La hipótesis alternativa: (Ha): Almenos un grupo es diferente del resto."
   ]
  },
  {
   "cell_type": "code",
   "execution_count": 29,
   "id": "bfb967fa",
   "metadata": {},
   "outputs": [
    {
     "data": {
      "text/plain": [
       "KruskalResult(statistic=14.262895927601809, pvalue=0.0025682930151479325)"
      ]
     },
     "execution_count": 29,
     "metadata": {},
     "output_type": "execute_result"
    }
   ],
   "source": [
    "kruskal(group1, group2, group3, group4)"
   ]
  },
  {
   "cell_type": "markdown",
   "id": "b5c5fe30",
   "metadata": {},
   "source": [
    "### <center>Prueba de Tukey"
   ]
  },
  {
   "cell_type": "code",
   "execution_count": 30,
   "id": "e85a8a40",
   "metadata": {},
   "outputs": [
    {
     "name": "stdout",
     "output_type": "stream",
     "text": [
      " Multiple Comparison of Means - Tukey HSD, FWER=0.05  \n",
      "======================================================\n",
      "group1 group2 meandiff p-adj   lower    upper   reject\n",
      "------------------------------------------------------\n",
      "group1 group2    -13.4 0.0832 -28.2001   1.4001  False\n",
      "group1 group3    -19.2 0.0092 -34.0001  -4.3999   True\n",
      "group1 group4    -38.4    0.0 -53.2001 -23.5999   True\n",
      "group2 group3     -5.8 0.6822 -20.6001   9.0001  False\n",
      "group2 group4    -25.0  0.001 -39.8001 -10.1999   True\n",
      "group3 group4    -19.2 0.0092 -34.0001  -4.3999   True\n",
      "------------------------------------------------------\n"
     ]
    }
   ],
   "source": [
    "# Juntar los datos en una sola lista\n",
    "data = group1 + group2 + group3 + group4\n",
    "\n",
    "# Crear una lista de etiquetas para los grupos\n",
    "labels = ['group1'] * len(group1) + ['group2'] * len(group2) + ['group3'] * len(group3) + ['group4'] * len(group4)\n",
    "\n",
    "# Crear un dataframe con los datos y las etiquetas\n",
    "df = pd.DataFrame({'data': data, 'labels': labels})\n",
    "\n",
    "# Realizar el test de Tukey\n",
    "tukey_results = mc.pairwise_tukeyhsd(df['data'], df['labels'])\n",
    "\n",
    "# Imprimir los resultados\n",
    "print(tukey_results)"
   ]
  },
  {
   "cell_type": "markdown",
   "id": "8fb93aaa",
   "metadata": {},
   "source": [
    "#### Entre los grupos de la Ligue 1:"
   ]
  },
  {
   "cell_type": "code",
   "execution_count": 31,
   "id": "8a9b1cdc",
   "metadata": {},
   "outputs": [],
   "source": [
    "# Creación de los 4 vectores nuevos\n",
    "group1 = []\n",
    "group2 = []\n",
    "group3 = []\n",
    "group4 = []\n",
    "\n",
    "# Iteración sobre las mediciones y categorías correspondientes\n",
    "for i in range(len(data_Ligue1_2122[\"GoalsFavor\"])):\n",
    "    if data_Ligue1_2122[\"Group\"][i] == '1':\n",
    "        group1.append(data_Ligue1_2122[\"GoalsFavor\"][i])\n",
    "    elif data_Ligue1_2122[\"Group\"][i] == '2':\n",
    "        group2.append(data_Ligue1_2122[\"GoalsFavor\"][i])\n",
    "    elif data_Ligue1_2122[\"Group\"][i] == '3':\n",
    "        group3.append(data_Ligue1_2122[\"GoalsFavor\"][i])\n",
    "    elif data_Ligue1_2122[\"Group\"][i] == '4':\n",
    "        group4.append(data_Ligue1_2122[\"GoalsFavor\"][i])"
   ]
  },
  {
   "cell_type": "markdown",
   "id": "264e4c8d",
   "metadata": {},
   "source": [
    "### <center>Test de Kruskal-Wallis\n",
    "* La hipótesis nula (H0): La media de los cuatro grupos es igual.\n",
    "\n",
    "* La hipótesis alternativa: (Ha): Almenos un grupo es diferente del resto."
   ]
  },
  {
   "cell_type": "code",
   "execution_count": 32,
   "id": "33082afa",
   "metadata": {},
   "outputs": [
    {
     "data": {
      "text/plain": [
       "KruskalResult(statistic=13.450339110776175, pvalue=0.003757351242755967)"
      ]
     },
     "execution_count": 32,
     "metadata": {},
     "output_type": "execute_result"
    }
   ],
   "source": [
    "kruskal(group1, group2, group3, group4)"
   ]
  },
  {
   "cell_type": "markdown",
   "id": "f352af63",
   "metadata": {},
   "source": [
    "### <center>Prueba de Tukey"
   ]
  },
  {
   "cell_type": "code",
   "execution_count": 33,
   "id": "f8a85cae",
   "metadata": {},
   "outputs": [
    {
     "name": "stdout",
     "output_type": "stream",
     "text": [
      " Multiple Comparison of Means - Tukey HSD, FWER=0.05  \n",
      "======================================================\n",
      "group1 group2 meandiff p-adj   lower    upper   reject\n",
      "------------------------------------------------------\n",
      "group1 group2    -12.2 0.2158 -29.3327   4.9327  False\n",
      "group1 group3    -26.0 0.0026 -43.1327  -8.8673   True\n",
      "group1 group4    -30.0 0.0007 -47.1327 -12.8673   True\n",
      "group2 group3    -13.8 0.1385 -30.9327   3.3327  False\n",
      "group2 group4    -17.8 0.0403 -34.9327  -0.6673   True\n",
      "group3 group4     -4.0 0.9076 -21.1327  13.1327  False\n",
      "------------------------------------------------------\n"
     ]
    }
   ],
   "source": [
    "# Juntar los datos en una sola lista\n",
    "data = group1 + group2 + group3 + group4\n",
    "\n",
    "# Crear una lista de etiquetas para los grupos\n",
    "labels = ['group1'] * len(group1) + ['group2'] * len(group2) + ['group3'] * len(group3) + ['group4'] * len(group4)\n",
    "\n",
    "# Crear un dataframe con los datos y las etiquetas\n",
    "df = pd.DataFrame({'data': data, 'labels': labels})\n",
    "\n",
    "# Realizar el test de Tukey\n",
    "tukey_results = mc.pairwise_tukeyhsd(df['data'], df['labels'])\n",
    "\n",
    "# Imprimir los resultados\n",
    "print(tukey_results)"
   ]
  },
  {
   "cell_type": "markdown",
   "id": "6e00c68e",
   "metadata": {},
   "source": [
    "#### Entre los grupos de la Bundesliga:"
   ]
  },
  {
   "cell_type": "code",
   "execution_count": 34,
   "id": "917648a3",
   "metadata": {},
   "outputs": [],
   "source": [
    "# Creación de los 4 vectores nuevos\n",
    "group1 = []\n",
    "group2 = []\n",
    "group3 = []\n",
    "group4 = []\n",
    "\n",
    "# Iteración sobre las mediciones y categorías correspondientes\n",
    "for i in range(len(data_Bundesliga_2122[\"GoalsFavor\"])):\n",
    "    if data_Bundesliga_2122[\"Group\"][i] == '1':\n",
    "        group1.append(data_Bundesliga_2122[\"GoalsFavor\"][i])\n",
    "    elif data_Bundesliga_2122[\"Group\"][i] == '2':\n",
    "        group2.append(data_Bundesliga_2122[\"GoalsFavor\"][i])\n",
    "    elif data_Bundesliga_2122[\"Group\"][i] == '3':\n",
    "        group3.append(data_Bundesliga_2122[\"GoalsFavor\"][i])\n",
    "    elif data_Bundesliga_2122[\"Group\"][i] == '4':\n",
    "        group4.append(data_Bundesliga_2122[\"GoalsFavor\"][i])"
   ]
  },
  {
   "cell_type": "markdown",
   "id": "97d2e97a",
   "metadata": {},
   "source": [
    "### <center>Test de Kruskal-Wallis\n",
    "* La hipótesis nula (H0): La media de los cuatro grupos es igual.\n",
    "\n",
    "* La hipótesis alternativa: (Ha): Almenos un grupo es diferente del resto."
   ]
  },
  {
   "cell_type": "code",
   "execution_count": 35,
   "id": "0e6fe32b",
   "metadata": {},
   "outputs": [
    {
     "data": {
      "text/plain": [
       "KruskalResult(statistic=14.398138572905891, pvalue=0.0024103890031101243)"
      ]
     },
     "execution_count": 35,
     "metadata": {},
     "output_type": "execute_result"
    }
   ],
   "source": [
    "kruskal(group1, group2, group3, group4)"
   ]
  },
  {
   "cell_type": "markdown",
   "id": "9b31c339",
   "metadata": {},
   "source": [
    "### <center>Prueba de Tukey"
   ]
  },
  {
   "cell_type": "code",
   "execution_count": 36,
   "id": "6a79e4d4",
   "metadata": {},
   "outputs": [
    {
     "name": "stdout",
     "output_type": "stream",
     "text": [
      " Multiple Comparison of Means - Tukey HSD, FWER=0.05  \n",
      "======================================================\n",
      "group1 group2 meandiff p-adj   lower    upper   reject\n",
      "------------------------------------------------------\n",
      "group1 group2    -29.9 0.0001 -43.6846 -16.1154   True\n",
      "group1 group3    -39.7    0.0 -53.4846 -25.9154   True\n",
      "group1 group4   -50.25    0.0 -64.7802 -35.7198   True\n",
      "group2 group3     -9.8 0.1734 -22.7962   3.1962  False\n",
      "group2 group4   -20.35 0.0037 -34.1346  -6.5654   True\n",
      "group3 group4   -10.55 0.1644 -24.3346   3.2346  False\n",
      "------------------------------------------------------\n"
     ]
    }
   ],
   "source": [
    "# Juntar los datos en una sola lista\n",
    "data = group1 + group2 + group3 + group4\n",
    "\n",
    "# Crear una lista de etiquetas para los grupos\n",
    "labels = ['group1'] * len(group1) + ['group2'] * len(group2) + ['group3'] * len(group3) + ['group4'] * len(group4)\n",
    "\n",
    "# Crear un dataframe con los datos y las etiquetas\n",
    "df = pd.DataFrame({'data': data, 'labels': labels})\n",
    "\n",
    "# Realizar el test de Tukey\n",
    "tukey_results = mc.pairwise_tukeyhsd(df['data'], df['labels'])\n",
    "\n",
    "# Imprimir los resultados\n",
    "print(tukey_results)"
   ]
  },
  {
   "cell_type": "markdown",
   "id": "90da177e",
   "metadata": {},
   "source": [
    "#### Entre las 4 ligas que tienen la misma cantidad de equipos:"
   ]
  },
  {
   "cell_type": "markdown",
   "id": "13f1c9a5",
   "metadata": {},
   "source": [
    "### <center>Test de Kruskal-Wallis\n",
    "* La hipótesis nula (H0): La media de los cuatro grupos es igual.\n",
    "\n",
    "* La hipótesis alternativa: (Ha): Almenos un grupo es diferente del resto."
   ]
  },
  {
   "cell_type": "code",
   "execution_count": 37,
   "id": "f8db8956",
   "metadata": {},
   "outputs": [
    {
     "data": {
      "text/plain": [
       "KruskalResult(statistic=2.56921005701953, pvalue=0.4629130078601459)"
      ]
     },
     "execution_count": 37,
     "metadata": {},
     "output_type": "execute_result"
    }
   ],
   "source": [
    "kruskal(data_PremierLeague_2122[\"GoalsFavor\"], data_LaLiga_2122[\"GoalsFavor\"], data_SerieA_2122[\"GoalsFavor\"], data_Ligue1_2122[\"GoalsFavor\"])"
   ]
  },
  {
   "cell_type": "markdown",
   "id": "4157668b",
   "metadata": {},
   "source": [
    "## <center>Comaparación de ShotsOnTarget"
   ]
  },
  {
   "cell_type": "code",
   "execution_count": 38,
   "id": "d6beda86",
   "metadata": {},
   "outputs": [
    {
     "data": {
      "image/png": "[encoded data removed]",
      "text/plain": [
       "<Figure size 1400x300 with 6 Axes>"
      ]
     },
     "metadata": {},
     "output_type": "display_data"
    }
   ],
   "source": [
    "a = \"Group\"\n",
    "b = \"ShotsOnTarget\"\n",
    "L_PL = generador_de_tablas_grupos_premier(a, b)\n",
    "L_LL = generador_de_tablas_grupos_laliga(a, b)\n",
    "L_SA = generador_de_tablas_grupos_seriea(a, b)\n",
    "L_L1 = generador_de_tablas_grupos_ligue1(a, b)\n",
    "L_BL = generador_de_tablas_grupos_bundesliga(a, b)\n",
    "\n",
    "titulo = 'Comaparación de tiros a puerta (ShotsOnTarget)'\n",
    "variable = \"ShotsOnTarget\"\n",
    "crear_boxplot_grupos(titulo, variable, L_PL, L_LL, L_SA, L_L1, L_BL)"
   ]
  },
  {
   "cell_type": "markdown",
   "id": "d1c2ceec",
   "metadata": {},
   "source": [
    "### <center>Test de Shapiro-Wilk</center>"
   ]
  },
  {
   "cell_type": "code",
   "execution_count": 39,
   "id": "bffff3b8",
   "metadata": {},
   "outputs": [],
   "source": [
    "columna_concreta = pd.concat([data_PremierLeague_2122[\"ShotsOnTarget\"], data_LaLiga_2122[\"ShotsOnTarget\"], data_SerieA_2122[\"ShotsOnTarget\"], data_Ligue1_2122[\"ShotsOnTarget\"], data_Bundesliga_2122[\"ShotsOnTarget\"]])"
   ]
  },
  {
   "cell_type": "code",
   "execution_count": 40,
   "id": "3d9af943",
   "metadata": {},
   "outputs": [
    {
     "data": {
      "text/plain": [
       "ShapiroResult(statistic=0.9307587146759033, pvalue=6.513956031994894e-05)"
      ]
     },
     "execution_count": 40,
     "metadata": {},
     "output_type": "execute_result"
    }
   ],
   "source": [
    "shapiro_test = stats.shapiro(columna_concreta)\n",
    "shapiro_test"
   ]
  },
  {
   "cell_type": "markdown",
   "id": "78e48462",
   "metadata": {},
   "source": [
    "#### Entre los grupos de la Premier League:"
   ]
  },
  {
   "cell_type": "code",
   "execution_count": 41,
   "id": "9b2bbfa9",
   "metadata": {},
   "outputs": [],
   "source": [
    "# Creación de los 4 vectores nuevos\n",
    "group1 = []\n",
    "group2 = []\n",
    "group3 = []\n",
    "group4 = []\n",
    "\n",
    "# Iteración sobre las mediciones y categorías correspondientes\n",
    "for i in range(len(data_PremierLeague_2122[\"ShotsOnTarget\"])):\n",
    "    if data_PremierLeague_2122[\"Group\"][i] == '1':\n",
    "        group1.append(data_PremierLeague_2122[\"ShotsOnTarget\"][i])\n",
    "    elif data_PremierLeague_2122[\"Group\"][i] == '2':\n",
    "        group2.append(data_PremierLeague_2122[\"ShotsOnTarget\"][i])\n",
    "    elif data_PremierLeague_2122[\"Group\"][i] == '3':\n",
    "        group3.append(data_PremierLeague_2122[\"ShotsOnTarget\"][i])\n",
    "    elif data_PremierLeague_2122[\"Group\"][i] == '4':\n",
    "        group4.append(data_PremierLeague_2122[\"ShotsOnTarget\"][i])"
   ]
  },
  {
   "cell_type": "markdown",
   "id": "7a7b4ce7",
   "metadata": {},
   "source": [
    "### <center>Test de Kruskal-Wallis\n",
    "* La hipótesis nula (H0): La media de los cuatro grupos es igual.\n",
    "\n",
    "* La hipótesis alternativa: (Ha): Almenos un grupo es diferente del resto."
   ]
  },
  {
   "cell_type": "code",
   "execution_count": 42,
   "id": "165158a5",
   "metadata": {},
   "outputs": [
    {
     "data": {
      "text/plain": [
       "KruskalResult(statistic=14.232779456193336, pvalue=0.002604828383854986)"
      ]
     },
     "execution_count": 42,
     "metadata": {},
     "output_type": "execute_result"
    }
   ],
   "source": [
    "kruskal(group1, group2, group3, group4)"
   ]
  },
  {
   "cell_type": "markdown",
   "id": "6dca73f9",
   "metadata": {},
   "source": [
    "### <center>Prueba de Tukey"
   ]
  },
  {
   "cell_type": "code",
   "execution_count": 43,
   "id": "8e022164",
   "metadata": {},
   "outputs": [
    {
     "name": "stdout",
     "output_type": "stream",
     "text": [
      "  Multiple Comparison of Means - Tukey HSD, FWER=0.05  \n",
      "=======================================================\n",
      "group1 group2 meandiff p-adj    lower    upper   reject\n",
      "-------------------------------------------------------\n",
      "group1 group2    -57.2 0.0008  -90.5379 -23.8621   True\n",
      "group1 group3    -60.4 0.0005  -93.7379 -27.0621   True\n",
      "group1 group4    -85.4    0.0 -118.7379 -52.0621   True\n",
      "group2 group3     -3.2 0.9925  -36.5379  30.1379  False\n",
      "group2 group4    -28.2 0.1131  -61.5379   5.1379  False\n",
      "group3 group4    -25.0 0.1811  -58.3379   8.3379  False\n",
      "-------------------------------------------------------\n"
     ]
    }
   ],
   "source": [
    "# Juntar los datos en una sola lista\n",
    "data = group1 + group2 + group3 + group4\n",
    "\n",
    "# Crear una lista de etiquetas para los grupos\n",
    "labels = ['group1'] * len(group1) + ['group2'] * len(group2) + ['group3'] * len(group3) + ['group4'] * len(group4)\n",
    "\n",
    "# Crear un dataframe con los datos y las etiquetas\n",
    "df = pd.DataFrame({'data': data, 'labels': labels})\n",
    "\n",
    "# Realizar el test de Tukey\n",
    "tukey_results = mc.pairwise_tukeyhsd(df['data'], df['labels'])\n",
    "\n",
    "# Imprimir los resultados\n",
    "print(tukey_results)"
   ]
  },
  {
   "cell_type": "markdown",
   "id": "accf139b",
   "metadata": {},
   "source": [
    "#### Entre los grupos de la La Liga:"
   ]
  },
  {
   "cell_type": "code",
   "execution_count": 44,
   "id": "9123ce2a",
   "metadata": {},
   "outputs": [],
   "source": [
    "# Creación de los 4 vectores nuevos\n",
    "group1 = []\n",
    "group2 = []\n",
    "group3 = []\n",
    "group4 = []\n",
    "\n",
    "# Iteración sobre las mediciones y categorías correspondientes\n",
    "for i in range(len(data_LaLiga_2122[\"ShotsOnTarget\"])):\n",
    "    if data_LaLiga_2122[\"Group\"][i] == '1':\n",
    "        group1.append(data_LaLiga_2122[\"ShotsOnTarget\"][i])\n",
    "    elif data_LaLiga_2122[\"Group\"][i] == '2':\n",
    "        group2.append(data_LaLiga_2122[\"ShotsOnTarget\"][i])\n",
    "    elif data_LaLiga_2122[\"Group\"][i] == '3':\n",
    "        group3.append(data_LaLiga_2122[\"ShotsOnTarget\"][i])\n",
    "    elif data_LaLiga_2122[\"Group\"][i] == '4':\n",
    "        group4.append(data_LaLiga_2122[\"ShotsOnTarget\"][i])"
   ]
  },
  {
   "cell_type": "markdown",
   "id": "78b3f1e4",
   "metadata": {},
   "source": [
    "### <center>Test de Kruskal-Wallis\n",
    "* La hipótesis nula (H0): La media de los cuatro grupos es igual.\n",
    "\n",
    "* La hipótesis alternativa: (Ha): Almenos un grupo es diferente del resto."
   ]
  },
  {
   "cell_type": "code",
   "execution_count": 45,
   "id": "52207f2c",
   "metadata": {},
   "outputs": [
    {
     "data": {
      "text/plain": [
       "KruskalResult(statistic=10.006475903614444, pvalue=0.018511168040898418)"
      ]
     },
     "execution_count": 45,
     "metadata": {},
     "output_type": "execute_result"
    }
   ],
   "source": [
    "kruskal(group1, group2, group3, group4)"
   ]
  },
  {
   "cell_type": "markdown",
   "id": "3ebd4a02",
   "metadata": {},
   "source": [
    "### <center>Prueba de Tukey"
   ]
  },
  {
   "cell_type": "code",
   "execution_count": 46,
   "id": "1ccff19f",
   "metadata": {},
   "outputs": [
    {
     "name": "stdout",
     "output_type": "stream",
     "text": [
      " Multiple Comparison of Means - Tukey HSD, FWER=0.05  \n",
      "======================================================\n",
      "group1 group2 meandiff p-adj   lower    upper   reject\n",
      "------------------------------------------------------\n",
      "group1 group2    -38.6 0.0937 -82.3409   5.1409  False\n",
      "group1 group3    -56.0 0.0102 -99.7409 -12.2591   True\n",
      "group1 group4    -51.2 0.0192 -94.9409  -7.4591   True\n",
      "group2 group3    -17.4 0.6723 -61.1409  26.3409  False\n",
      "group2 group4    -12.6 0.8422 -56.3409  31.1409  False\n",
      "group3 group4      4.8 0.9889 -38.9409  48.5409  False\n",
      "------------------------------------------------------\n"
     ]
    }
   ],
   "source": [
    "# Juntar los datos en una sola lista\n",
    "data = group1 + group2 + group3 + group4\n",
    "\n",
    "# Crear una lista de etiquetas para los grupos\n",
    "labels = ['group1'] * len(group1) + ['group2'] * len(group2) + ['group3'] * len(group3) + ['group4'] * len(group4)\n",
    "\n",
    "# Crear un dataframe con los datos y las etiquetas\n",
    "df = pd.DataFrame({'data': data, 'labels': labels})\n",
    "\n",
    "# Realizar el test de Tukey\n",
    "tukey_results = mc.pairwise_tukeyhsd(df['data'], df['labels'])\n",
    "\n",
    "# Imprimir los resultados\n",
    "print(tukey_results)"
   ]
  },
  {
   "cell_type": "markdown",
   "id": "1c5f4dc1",
   "metadata": {},
   "source": [
    "#### Entre los grupos de la SerieA:"
   ]
  },
  {
   "cell_type": "code",
   "execution_count": 47,
   "id": "e92b85c3",
   "metadata": {},
   "outputs": [],
   "source": [
    "# Creación de los 4 vectores nuevos\n",
    "group1 = []\n",
    "group2 = []\n",
    "group3 = []\n",
    "group4 = []\n",
    "\n",
    "# Iteración sobre las mediciones y categorías correspondientes\n",
    "for i in range(len(data_SerieA_2122[\"ShotsOnTarget\"])):\n",
    "    if data_SerieA_2122[\"Group\"][i] == '1':\n",
    "        group1.append(data_SerieA_2122[\"ShotsOnTarget\"][i])\n",
    "    elif data_SerieA_2122[\"Group\"][i] == '2':\n",
    "        group2.append(data_SerieA_2122[\"ShotsOnTarget\"][i])\n",
    "    elif data_SerieA_2122[\"Group\"][i] == '3':\n",
    "        group3.append(data_SerieA_2122[\"ShotsOnTarget\"][i])\n",
    "    elif data_SerieA_2122[\"Group\"][i] == '4':\n",
    "        group4.append(data_SerieA_2122[\"ShotsOnTarget\"][i])"
   ]
  },
  {
   "cell_type": "markdown",
   "id": "ddaf39ac",
   "metadata": {},
   "source": [
    "### <center>Test de Kruskal-Wallis\n",
    "* La hipótesis nula (H0): La media de los cuatro grupos es igual.\n",
    "\n",
    "* La hipótesis alternativa: (Ha): Almenos un grupo es diferente del resto."
   ]
  },
  {
   "cell_type": "code",
   "execution_count": 48,
   "id": "65b0b28a",
   "metadata": {},
   "outputs": [
    {
     "data": {
      "text/plain": [
       "KruskalResult(statistic=12.30285714285715, pvalue=0.0064145344575662205)"
      ]
     },
     "execution_count": 48,
     "metadata": {},
     "output_type": "execute_result"
    }
   ],
   "source": [
    "kruskal(group1, group2, group3, group4)"
   ]
  },
  {
   "cell_type": "markdown",
   "id": "deeb71a5",
   "metadata": {},
   "source": [
    "### <center>Prueba de Tukey"
   ]
  },
  {
   "cell_type": "code",
   "execution_count": 49,
   "id": "f07cf4f5",
   "metadata": {},
   "outputs": [
    {
     "name": "stdout",
     "output_type": "stream",
     "text": [
      "  Multiple Comparison of Means - Tukey HSD, FWER=0.05  \n",
      "=======================================================\n",
      "group1 group2 meandiff p-adj    lower    upper   reject\n",
      "-------------------------------------------------------\n",
      "group1 group2    -29.2 0.2484  -72.1029  13.7029  False\n",
      "group1 group3    -33.2 0.1616  -76.1029   9.7029  False\n",
      "group1 group4    -74.0 0.0008 -116.9029 -31.0971   True\n",
      "group2 group3     -4.0 0.9931  -46.9029  38.9029  False\n",
      "group2 group4    -44.8 0.0392  -87.7029  -1.8971   True\n",
      "group3 group4    -40.8 0.0653  -83.7029   2.1029  False\n",
      "-------------------------------------------------------\n"
     ]
    }
   ],
   "source": [
    "# Juntar los datos en una sola lista\n",
    "data = group1 + group2 + group3 + group4\n",
    "\n",
    "# Crear una lista de etiquetas para los grupos\n",
    "labels = ['group1'] * len(group1) + ['group2'] * len(group2) + ['group3'] * len(group3) + ['group4'] * len(group4)\n",
    "\n",
    "# Crear un dataframe con los datos y las etiquetas\n",
    "df = pd.DataFrame({'data': data, 'labels': labels})\n",
    "\n",
    "# Realizar el test de Tukey\n",
    "tukey_results = mc.pairwise_tukeyhsd(df['data'], df['labels'])\n",
    "\n",
    "# Imprimir los resultados\n",
    "print(tukey_results)"
   ]
  },
  {
   "cell_type": "markdown",
   "id": "89fb3b9f",
   "metadata": {},
   "source": [
    "#### Entre los grupos de la Ligue 1:"
   ]
  },
  {
   "cell_type": "code",
   "execution_count": 50,
   "id": "4616eec5",
   "metadata": {},
   "outputs": [],
   "source": [
    "# Creación de los 4 vectores nuevos\n",
    "group1 = []\n",
    "group2 = []\n",
    "group3 = []\n",
    "group4 = []\n",
    "\n",
    "# Iteración sobre las mediciones y categorías correspondientes\n",
    "for i in range(len(data_Ligue1_2122[\"ShotsOnTarget\"])):\n",
    "    if data_Ligue1_2122[\"Group\"][i] == '1':\n",
    "        group1.append(data_Ligue1_2122[\"ShotsOnTarget\"][i])\n",
    "    elif data_Ligue1_2122[\"Group\"][i] == '2':\n",
    "        group2.append(data_Ligue1_2122[\"ShotsOnTarget\"][i])\n",
    "    elif data_Ligue1_2122[\"Group\"][i] == '3':\n",
    "        group3.append(data_Ligue1_2122[\"ShotsOnTarget\"][i])\n",
    "    elif data_Ligue1_2122[\"Group\"][i] == '4':\n",
    "        group4.append(data_Ligue1_2122[\"ShotsOnTarget\"][i])"
   ]
  },
  {
   "cell_type": "markdown",
   "id": "59304e21",
   "metadata": {},
   "source": [
    "### <center>Test de Kruskal-Wallis\n",
    "* La hipótesis nula (H0): La media de los cuatro grupos es igual.\n",
    "\n",
    "* La hipótesis alternativa: (Ha): Almenos un grupo es diferente del resto."
   ]
  },
  {
   "cell_type": "code",
   "execution_count": 51,
   "id": "b1de52b9",
   "metadata": {},
   "outputs": [
    {
     "data": {
      "text/plain": [
       "KruskalResult(statistic=10.561596385542165, pvalue=0.014348822476835107)"
      ]
     },
     "execution_count": 51,
     "metadata": {},
     "output_type": "execute_result"
    }
   ],
   "source": [
    "kruskal(group1, group2, group3, group4)"
   ]
  },
  {
   "cell_type": "markdown",
   "id": "91a02685",
   "metadata": {},
   "source": [
    "### <center>Prueba de Tukey"
   ]
  },
  {
   "cell_type": "code",
   "execution_count": 52,
   "id": "0c356357",
   "metadata": {},
   "outputs": [
    {
     "name": "stdout",
     "output_type": "stream",
     "text": [
      " Multiple Comparison of Means - Tukey HSD, FWER=0.05 \n",
      "=====================================================\n",
      "group1 group2 meandiff p-adj   lower    upper  reject\n",
      "-----------------------------------------------------\n",
      "group1 group2     -6.0 0.9607 -41.1801 29.1801  False\n",
      "group1 group3    -36.2 0.0426 -71.3801 -1.0199   True\n",
      "group1 group4    -34.4 0.0564 -69.5801  0.7801  False\n",
      "group2 group3    -30.2 0.1061 -65.3801  4.9801  False\n",
      "group2 group4    -28.4 0.1373 -63.5801  6.7801  False\n",
      "group3 group4      1.8 0.9988 -33.3801 36.9801  False\n",
      "-----------------------------------------------------\n"
     ]
    }
   ],
   "source": [
    "# Juntar los datos en una sola lista\n",
    "data = group1 + group2 + group3 + group4\n",
    "\n",
    "# Crear una lista de etiquetas para los grupos\n",
    "labels = ['group1'] * len(group1) + ['group2'] * len(group2) + ['group3'] * len(group3) + ['group4'] * len(group4)\n",
    "\n",
    "# Crear un dataframe con los datos y las etiquetas\n",
    "df = pd.DataFrame({'data': data, 'labels': labels})\n",
    "\n",
    "# Realizar el test de Tukey\n",
    "tukey_results = mc.pairwise_tukeyhsd(df['data'], df['labels'])\n",
    "\n",
    "# Imprimir los resultados\n",
    "print(tukey_results)"
   ]
  },
  {
   "cell_type": "markdown",
   "id": "b9abdaee",
   "metadata": {},
   "source": [
    "#### Entre los grupos de la Bundesliga:"
   ]
  },
  {
   "cell_type": "code",
   "execution_count": 53,
   "id": "3a89bbe9",
   "metadata": {},
   "outputs": [],
   "source": [
    "# Creación de los 4 vectores nuevos\n",
    "group1 = []\n",
    "group2 = []\n",
    "group3 = []\n",
    "group4 = []\n",
    "\n",
    "# Iteración sobre las mediciones y categorías correspondientes\n",
    "for i in range(len(data_Bundesliga_2122[\"ShotsOnTarget\"])):\n",
    "    if data_Bundesliga_2122[\"Group\"][i] == '1':\n",
    "        group1.append(data_Bundesliga_2122[\"ShotsOnTarget\"][i])\n",
    "    elif data_Bundesliga_2122[\"Group\"][i] == '2':\n",
    "        group2.append(data_Bundesliga_2122[\"ShotsOnTarget\"][i])\n",
    "    elif data_Bundesliga_2122[\"Group\"][i] == '3':\n",
    "        group3.append(data_Bundesliga_2122[\"ShotsOnTarget\"][i])\n",
    "    elif data_Bundesliga_2122[\"Group\"][i] == '4':\n",
    "        group4.append(data_Bundesliga_2122[\"ShotsOnTarget\"][i])"
   ]
  },
  {
   "cell_type": "markdown",
   "id": "186e67a1",
   "metadata": {},
   "source": [
    "### <center>Test de Kruskal-Wallis\n",
    "* La hipótesis nula (H0): La media de los cuatro grupos es igual.\n",
    "\n",
    "* La hipótesis alternativa: (Ha): Almenos un grupo es diferente del resto."
   ]
  },
  {
   "cell_type": "code",
   "execution_count": 54,
   "id": "f4748d77",
   "metadata": {},
   "outputs": [
    {
     "data": {
      "text/plain": [
       "KruskalResult(statistic=9.799197722567284, pvalue=0.020352460991052236)"
      ]
     },
     "execution_count": 54,
     "metadata": {},
     "output_type": "execute_result"
    }
   ],
   "source": [
    "kruskal(group1, group2, group3, group4)"
   ]
  },
  {
   "cell_type": "markdown",
   "id": "7a14c134",
   "metadata": {},
   "source": [
    "### <center>Prueba de Tukey"
   ]
  },
  {
   "cell_type": "code",
   "execution_count": 55,
   "id": "e2ae7096",
   "metadata": {},
   "outputs": [
    {
     "name": "stdout",
     "output_type": "stream",
     "text": [
      "  Multiple Comparison of Means - Tukey HSD, FWER=0.05  \n",
      "=======================================================\n",
      "group1 group2 meandiff p-adj    lower    upper   reject\n",
      "-------------------------------------------------------\n",
      "group1 group2   -42.85 0.0953  -91.7523   6.0523  False\n",
      "group1 group3   -53.25  0.031 -102.1523  -4.3477   True\n",
      "group1 group4    -74.0 0.0046 -125.5475 -22.4525   True\n",
      "group2 group3    -10.4 0.9118  -56.5055  35.7055  False\n",
      "group2 group4   -31.15 0.2917  -80.0523  17.7523  False\n",
      "group3 group4   -20.75 0.6171  -69.6523  28.1523  False\n",
      "-------------------------------------------------------\n"
     ]
    }
   ],
   "source": [
    "# Juntar los datos en una sola lista\n",
    "data = group1 + group2 + group3 + group4\n",
    "\n",
    "# Crear una lista de etiquetas para los grupos\n",
    "labels = ['group1'] * len(group1) + ['group2'] * len(group2) + ['group3'] * len(group3) + ['group4'] * len(group4)\n",
    "\n",
    "# Crear un dataframe con los datos y las etiquetas\n",
    "df = pd.DataFrame({'data': data, 'labels': labels})\n",
    "\n",
    "# Realizar el test de Tukey\n",
    "tukey_results = mc.pairwise_tukeyhsd(df['data'], df['labels'])\n",
    "\n",
    "# Imprimir los resultados\n",
    "print(tukey_results)"
   ]
  },
  {
   "cell_type": "markdown",
   "id": "058ec58f",
   "metadata": {},
   "source": [
    "#### Entre las 4 ligas que tienen la misma cantidad de equipos:"
   ]
  },
  {
   "cell_type": "markdown",
   "id": "12f1dbd2",
   "metadata": {},
   "source": [
    "### <center>Test de Kruskal-Wallis\n",
    "* La hipótesis nula (H0): La media de los cuatro grupos es igual.\n",
    "\n",
    "* La hipótesis alternativa: (Ha): Almenos un grupo es diferente del resto."
   ]
  },
  {
   "cell_type": "code",
   "execution_count": 56,
   "id": "9a4726b9",
   "metadata": {},
   "outputs": [
    {
     "data": {
      "text/plain": [
       "KruskalResult(statistic=4.3546056797129635, pvalue=0.22563158500081296)"
      ]
     },
     "execution_count": 56,
     "metadata": {},
     "output_type": "execute_result"
    }
   ],
   "source": [
    "kruskal(data_PremierLeague_2122[\"ShotsOnTarget\"], data_LaLiga_2122[\"ShotsOnTarget\"], data_SerieA_2122[\"ShotsOnTarget\"], data_Ligue1_2122[\"ShotsOnTarget\"])"
   ]
  },
  {
   "cell_type": "markdown",
   "id": "5fd487ad",
   "metadata": {},
   "source": [
    "## <center>Comaparación de pases completados con éxito (PassesCompleted)"
   ]
  },
  {
   "cell_type": "code",
   "execution_count": 57,
   "id": "2d2d079a",
   "metadata": {},
   "outputs": [
    {
     "data": {
      "image/png": "[encoded data removed]",
      "text/plain": [
       "<Figure size 1400x300 with 6 Axes>"
      ]
     },
     "metadata": {},
     "output_type": "display_data"
    }
   ],
   "source": [
    "a = \"Group\"\n",
    "b = \"TotalPassesCompleted\"\n",
    "L_PL = generador_de_tablas_grupos_premier(a, b)\n",
    "L_LL = generador_de_tablas_grupos_laliga(a, b)\n",
    "L_SA = generador_de_tablas_grupos_seriea(a, b)\n",
    "L_L1 = generador_de_tablas_grupos_ligue1(a, b)\n",
    "L_BL = generador_de_tablas_grupos_bundesliga(a, b)\n",
    "\n",
    "titulo = 'Comaparación de pases completados con éxito (PassesCompleted)'\n",
    "variable = \"TotalPassesCompleted\"\n",
    "crear_boxplot_grupos(titulo, variable, L_PL, L_LL, L_SA, L_L1, L_BL)"
   ]
  },
  {
   "cell_type": "markdown",
   "id": "b3e87375",
   "metadata": {},
   "source": [
    "### <center>Test de Shapiro-Wilk</center>"
   ]
  },
  {
   "cell_type": "code",
   "execution_count": 58,
   "id": "be3a32a6",
   "metadata": {},
   "outputs": [],
   "source": [
    "columna_concreta = pd.concat([data_PremierLeague_2122[\"TotalPassesCompleted\"], data_LaLiga_2122[\"TotalPassesCompleted\"], data_SerieA_2122[\"TotalPassesCompleted\"], data_Ligue1_2122[\"TotalPassesCompleted\"], data_Bundesliga_2122[\"TotalPassesCompleted\"]])"
   ]
  },
  {
   "cell_type": "code",
   "execution_count": 59,
   "id": "08a861be",
   "metadata": {},
   "outputs": [
    {
     "data": {
      "text/plain": [
       "ShapiroResult(statistic=0.9494795203208923, pvalue=0.0008817019988782704)"
      ]
     },
     "execution_count": 59,
     "metadata": {},
     "output_type": "execute_result"
    }
   ],
   "source": [
    "shapiro_test = stats.shapiro(columna_concreta)\n",
    "shapiro_test"
   ]
  },
  {
   "cell_type": "markdown",
   "id": "26245300",
   "metadata": {},
   "source": [
    "#### Entre los grupos de la Premier League:"
   ]
  },
  {
   "cell_type": "code",
   "execution_count": 60,
   "id": "644f2038",
   "metadata": {},
   "outputs": [],
   "source": [
    "# Creación de los 4 vectores nuevos\n",
    "group1 = []\n",
    "group2 = []\n",
    "group3 = []\n",
    "group4 = []\n",
    "\n",
    "# Iteración sobre las mediciones y categorías correspondientes\n",
    "for i in range(len(data_PremierLeague_2122[\"TotalPassesCompleted\"])):\n",
    "    if data_PremierLeague_2122[\"Group\"][i] == '1':\n",
    "        group1.append(data_PremierLeague_2122[\"TotalPassesCompleted\"][i])\n",
    "    elif data_PremierLeague_2122[\"Group\"][i] == '2':\n",
    "        group2.append(data_PremierLeague_2122[\"TotalPassesCompleted\"][i])\n",
    "    elif data_PremierLeague_2122[\"Group\"][i] == '3':\n",
    "        group3.append(data_PremierLeague_2122[\"TotalPassesCompleted\"][i])\n",
    "    elif data_PremierLeague_2122[\"Group\"][i] == '4':\n",
    "        group4.append(data_PremierLeague_2122[\"TotalPassesCompleted\"][i])"
   ]
  },
  {
   "cell_type": "markdown",
   "id": "72a9f29e",
   "metadata": {},
   "source": [
    "### <center>Test de Kruskal-Wallis\n",
    "* La hipótesis nula (H0): La media de los cuatro grupos es igual.\n",
    "\n",
    "* La hipótesis alternativa: (Ha): Almenos un grupo es diferente del resto."
   ]
  },
  {
   "cell_type": "code",
   "execution_count": 61,
   "id": "20079e5d",
   "metadata": {},
   "outputs": [
    {
     "data": {
      "text/plain": [
       "KruskalResult(statistic=15.388571428571439, pvalue=0.00151297059233667)"
      ]
     },
     "execution_count": 61,
     "metadata": {},
     "output_type": "execute_result"
    }
   ],
   "source": [
    "kruskal(group1, group2, group3, group4)"
   ]
  },
  {
   "cell_type": "markdown",
   "id": "0a6fb7db",
   "metadata": {},
   "source": [
    "### <center>Prueba de Tukey"
   ]
  },
  {
   "cell_type": "code",
   "execution_count": 62,
   "id": "3b1fcc2b",
   "metadata": {},
   "outputs": [
    {
     "name": "stdout",
     "output_type": "stream",
     "text": [
      "    Multiple Comparison of Means - Tukey HSD, FWER=0.05    \n",
      "===========================================================\n",
      "group1 group2 meandiff p-adj     lower      upper    reject\n",
      "-----------------------------------------------------------\n",
      "group1 group2  -4266.4 0.0287  -8145.7892  -387.0108   True\n",
      "group1 group3  -7605.2 0.0002 -11484.5892 -3725.8108   True\n",
      "group1 group4  -8749.2    0.0 -12628.5892 -4869.8108   True\n",
      "group2 group3  -3338.8 0.1049  -7218.1892   540.5892  False\n",
      "group2 group4  -4482.8 0.0209  -8362.1892  -603.4108   True\n",
      "group3 group4  -1144.0 0.8329  -5023.3892  2735.3892  False\n",
      "-----------------------------------------------------------\n"
     ]
    }
   ],
   "source": [
    "# Juntar los datos en una sola lista\n",
    "data = group1 + group2 + group3 + group4\n",
    "\n",
    "# Crear una lista de etiquetas para los grupos\n",
    "labels = ['group1'] * len(group1) + ['group2'] * len(group2) + ['group3'] * len(group3) + ['group4'] * len(group4)\n",
    "\n",
    "# Crear un dataframe con los datos y las etiquetas\n",
    "df = pd.DataFrame({'data': data, 'labels': labels})\n",
    "\n",
    "# Realizar el test de Tukey\n",
    "tukey_results = mc.pairwise_tukeyhsd(df['data'], df['labels'])\n",
    "\n",
    "# Imprimir los resultados\n",
    "print(tukey_results)"
   ]
  },
  {
   "cell_type": "markdown",
   "id": "175cc8bd",
   "metadata": {},
   "source": [
    "#### Entre los grupos de la La Liga:"
   ]
  },
  {
   "cell_type": "code",
   "execution_count": 63,
   "id": "4a282b9f",
   "metadata": {},
   "outputs": [],
   "source": [
    "# Creación de los 4 vectores nuevos\n",
    "group1 = []\n",
    "group2 = []\n",
    "group3 = []\n",
    "group4 = []\n",
    "\n",
    "# Iteración sobre las mediciones y categorías correspondientes\n",
    "for i in range(len(data_LaLiga_2122[\"TotalPassesCompleted\"])):\n",
    "    if data_LaLiga_2122[\"Group\"][i] == '1':\n",
    "        group1.append(data_LaLiga_2122[\"TotalPassesCompleted\"][i])\n",
    "    elif data_LaLiga_2122[\"Group\"][i] == '2':\n",
    "        group2.append(data_LaLiga_2122[\"TotalPassesCompleted\"][i])\n",
    "    elif data_LaLiga_2122[\"Group\"][i] == '3':\n",
    "        group3.append(data_LaLiga_2122[\"TotalPassesCompleted\"][i])\n",
    "    elif data_LaLiga_2122[\"Group\"][i] == '4':\n",
    "        group4.append(data_LaLiga_2122[\"TotalPassesCompleted\"][i])"
   ]
  },
  {
   "cell_type": "markdown",
   "id": "751e7ce3",
   "metadata": {},
   "source": [
    "### <center>Test de Kruskal-Wallis\n",
    "* La hipótesis nula (H0): La media de los cuatro grupos es igual.\n",
    "\n",
    "* La hipótesis alternativa: (Ha): Almenos un grupo es diferente del resto."
   ]
  },
  {
   "cell_type": "code",
   "execution_count": 64,
   "id": "04df0a72",
   "metadata": {},
   "outputs": [
    {
     "data": {
      "text/plain": [
       "KruskalResult(statistic=10.748571428571424, pvalue=0.013166115556046663)"
      ]
     },
     "execution_count": 64,
     "metadata": {},
     "output_type": "execute_result"
    }
   ],
   "source": [
    "kruskal(group1, group2, group3, group4)"
   ]
  },
  {
   "cell_type": "markdown",
   "id": "2c7c193f",
   "metadata": {},
   "source": [
    "### <center>Prueba de Tukey"
   ]
  },
  {
   "cell_type": "code",
   "execution_count": 65,
   "id": "2de64995",
   "metadata": {},
   "outputs": [
    {
     "name": "stdout",
     "output_type": "stream",
     "text": [
      "    Multiple Comparison of Means - Tukey HSD, FWER=0.05    \n",
      "===========================================================\n",
      "group1 group2 meandiff p-adj     lower      upper    reject\n",
      "-----------------------------------------------------------\n",
      "group1 group2  -5081.4 0.0176  -9366.6596  -796.1404   True\n",
      "group1 group3  -5325.4 0.0126  -9610.6596 -1040.1404   True\n",
      "group1 group4  -7588.6 0.0006 -11873.8596 -3303.3404   True\n",
      "group2 group3   -244.0 0.9984  -4529.2596  4041.2596  False\n",
      "group2 group4  -2507.2 0.3685  -6792.4596  1778.0596  False\n",
      "group3 group4  -2263.2 0.4542  -6548.4596  2022.0596  False\n",
      "-----------------------------------------------------------\n"
     ]
    }
   ],
   "source": [
    "# Juntar los datos en una sola lista\n",
    "data = group1 + group2 + group3 + group4\n",
    "\n",
    "# Crear una lista de etiquetas para los grupos\n",
    "labels = ['group1'] * len(group1) + ['group2'] * len(group2) + ['group3'] * len(group3) + ['group4'] * len(group4)\n",
    "\n",
    "# Crear un dataframe con los datos y las etiquetas\n",
    "df = pd.DataFrame({'data': data, 'labels': labels})\n",
    "\n",
    "# Realizar el test de Tukey\n",
    "tukey_results = mc.pairwise_tukeyhsd(df['data'], df['labels'])\n",
    "\n",
    "# Imprimir los resultados\n",
    "print(tukey_results)"
   ]
  },
  {
   "cell_type": "markdown",
   "id": "572509fc",
   "metadata": {},
   "source": [
    "#### Entre los grupos de la Serie A:"
   ]
  },
  {
   "cell_type": "code",
   "execution_count": 66,
   "id": "a7425e39",
   "metadata": {},
   "outputs": [],
   "source": [
    "# Creación de los 4 vectores nuevos\n",
    "group1 = []\n",
    "group2 = []\n",
    "group3 = []\n",
    "group4 = []\n",
    "\n",
    "# Iteración sobre las mediciones y categorías correspondientes\n",
    "for i in range(len(data_SerieA_2122[\"TotalPassesCompleted\"])):\n",
    "    if data_SerieA_2122[\"Group\"][i] == '1':\n",
    "        group1.append(data_SerieA_2122[\"TotalPassesCompleted\"][i])\n",
    "    elif data_SerieA_2122[\"Group\"][i] == '2':\n",
    "        group2.append(data_SerieA_2122[\"TotalPassesCompleted\"][i])\n",
    "    elif data_SerieA_2122[\"Group\"][i] == '3':\n",
    "        group3.append(data_SerieA_2122[\"TotalPassesCompleted\"][i])\n",
    "    elif data_SerieA_2122[\"Group\"][i] == '4':\n",
    "        group4.append(data_SerieA_2122[\"TotalPassesCompleted\"][i])"
   ]
  },
  {
   "cell_type": "markdown",
   "id": "6c3cc218",
   "metadata": {},
   "source": [
    "### <center>Test de Kruskal-Wallis\n",
    "* La hipótesis nula (H0): La media de los cuatro grupos es igual.\n",
    "\n",
    "* La hipótesis alternativa: (Ha): Almenos un grupo es diferente del resto."
   ]
  },
  {
   "cell_type": "code",
   "execution_count": 67,
   "id": "ccc86011",
   "metadata": {},
   "outputs": [
    {
     "data": {
      "text/plain": [
       "KruskalResult(statistic=14.46516177577126, pvalue=0.00233574109699481)"
      ]
     },
     "execution_count": 67,
     "metadata": {},
     "output_type": "execute_result"
    }
   ],
   "source": [
    "kruskal(group1, group2, group3, group4)"
   ]
  },
  {
   "cell_type": "markdown",
   "id": "4cf8d790",
   "metadata": {},
   "source": [
    "### <center>Prueba de Tukey"
   ]
  },
  {
   "cell_type": "code",
   "execution_count": 68,
   "id": "4d4bbce1",
   "metadata": {},
   "outputs": [
    {
     "name": "stdout",
     "output_type": "stream",
     "text": [
      "   Multiple Comparison of Means - Tukey HSD, FWER=0.05    \n",
      "==========================================================\n",
      "group1 group2 meandiff p-adj    lower      upper    reject\n",
      "----------------------------------------------------------\n",
      "group1 group2  -2602.4 0.1086 -5650.2839   445.4839  False\n",
      "group1 group3  -4186.6 0.0059 -7234.4839 -1138.7161   True\n",
      "group1 group4  -6631.4 0.0001 -9679.2839 -3583.5161   True\n",
      "group2 group3  -1584.2 0.4675 -4632.0839  1463.6839  False\n",
      "group2 group4  -4029.0  0.008 -7076.8839  -981.1161   True\n",
      "group3 group4  -2444.8 0.1408 -5492.6839   603.0839  False\n",
      "----------------------------------------------------------\n"
     ]
    }
   ],
   "source": [
    "# Juntar los datos en una sola lista\n",
    "data = group1 + group2 + group3 + group4\n",
    "\n",
    "# Crear una lista de etiquetas para los grupos\n",
    "labels = ['group1'] * len(group1) + ['group2'] * len(group2) + ['group3'] * len(group3) + ['group4'] * len(group4)\n",
    "\n",
    "# Crear un dataframe con los datos y las etiquetas\n",
    "df = pd.DataFrame({'data': data, 'labels': labels})\n",
    "\n",
    "# Realizar el test de Tukey\n",
    "tukey_results = mc.pairwise_tukeyhsd(df['data'], df['labels'])\n",
    "\n",
    "# Imprimir los resultados\n",
    "print(tukey_results)"
   ]
  },
  {
   "cell_type": "markdown",
   "id": "774ff8af",
   "metadata": {},
   "source": [
    "#### Entre los grupos de la Ligue 1:"
   ]
  },
  {
   "cell_type": "code",
   "execution_count": 69,
   "id": "3dce73a5",
   "metadata": {},
   "outputs": [],
   "source": [
    "# Creación de los 4 vectores nuevos\n",
    "group1 = []\n",
    "group2 = []\n",
    "group3 = []\n",
    "group4 = []\n",
    "\n",
    "# Iteración sobre las mediciones y categorías correspondientes\n",
    "for i in range(len(data_Ligue1_2122[\"TotalPassesCompleted\"])):\n",
    "    if data_Ligue1_2122[\"Group\"][i] == '1':\n",
    "        group1.append(data_Ligue1_2122[\"TotalPassesCompleted\"][i])\n",
    "    elif data_Ligue1_2122[\"Group\"][i] == '2':\n",
    "        group2.append(data_Ligue1_2122[\"TotalPassesCompleted\"][i])\n",
    "    elif data_Ligue1_2122[\"Group\"][i] == '3':\n",
    "        group3.append(data_Ligue1_2122[\"TotalPassesCompleted\"][i])\n",
    "    elif data_Ligue1_2122[\"Group\"][i] == '4':\n",
    "        group4.append(data_Ligue1_2122[\"TotalPassesCompleted\"][i])"
   ]
  },
  {
   "cell_type": "markdown",
   "id": "ceaea4a0",
   "metadata": {},
   "source": [
    "### <center>Test de Kruskal-Wallis\n",
    "* La hipótesis nula (H0): La media de los cuatro grupos es igual.\n",
    "\n",
    "* La hipótesis alternativa: (Ha): Almenos un grupo es diferente del resto."
   ]
  },
  {
   "cell_type": "code",
   "execution_count": 70,
   "id": "07ae08a8",
   "metadata": {},
   "outputs": [
    {
     "data": {
      "text/plain": [
       "KruskalResult(statistic=10.360000000000014, pvalue=0.01574130183500985)"
      ]
     },
     "execution_count": 70,
     "metadata": {},
     "output_type": "execute_result"
    }
   ],
   "source": [
    "kruskal(group1, group2, group3, group4)"
   ]
  },
  {
   "cell_type": "markdown",
   "id": "c13bba33",
   "metadata": {},
   "source": [
    "### <center>Prueba de Tukey"
   ]
  },
  {
   "cell_type": "code",
   "execution_count": 71,
   "id": "1d2ff9c7",
   "metadata": {},
   "outputs": [
    {
     "name": "stdout",
     "output_type": "stream",
     "text": [
      "  Multiple Comparison of Means - Tukey HSD, FWER=0.05   \n",
      "========================================================\n",
      "group1 group2 meandiff p-adj    lower     upper   reject\n",
      "--------------------------------------------------------\n",
      "group1 group2  -3309.2 0.1565 -7548.917   930.517  False\n",
      "group1 group3  -5602.6  0.008 -9842.317 -1362.883   True\n",
      "group1 group4  -5355.8 0.0112 -9595.517 -1116.083   True\n",
      "group2 group3  -2293.4 0.4341 -6533.117  1946.317  False\n",
      "group2 group4  -2046.6 0.5282 -6286.317  2193.117  False\n",
      "group3 group4    246.8 0.9983 -3992.917  4486.517  False\n",
      "--------------------------------------------------------\n"
     ]
    }
   ],
   "source": [
    "# Juntar los datos en una sola lista\n",
    "data = group1 + group2 + group3 + group4\n",
    "\n",
    "# Crear una lista de etiquetas para los grupos\n",
    "labels = ['group1'] * len(group1) + ['group2'] * len(group2) + ['group3'] * len(group3) + ['group4'] * len(group4)\n",
    "\n",
    "# Crear un dataframe con los datos y las etiquetas\n",
    "df = pd.DataFrame({'data': data, 'labels': labels})\n",
    "\n",
    "# Realizar el test de Tukey\n",
    "tukey_results = mc.pairwise_tukeyhsd(df['data'], df['labels'])\n",
    "\n",
    "# Imprimir los resultados\n",
    "print(tukey_results)"
   ]
  },
  {
   "cell_type": "markdown",
   "id": "56d8c280",
   "metadata": {},
   "source": [
    "#### Entre los grupos de la Bundesliga:"
   ]
  },
  {
   "cell_type": "code",
   "execution_count": 72,
   "id": "b3055066",
   "metadata": {},
   "outputs": [],
   "source": [
    "# Creación de los 4 vectores nuevos\n",
    "group1 = []\n",
    "group2 = []\n",
    "group3 = []\n",
    "group4 = []\n",
    "\n",
    "# Iteración sobre las mediciones y categorías correspondientes\n",
    "for i in range(len(data_Bundesliga_2122[\"TotalPassesCompleted\"])):\n",
    "    if data_Bundesliga_2122[\"Group\"][i] == '1':\n",
    "        group1.append(data_Bundesliga_2122[\"TotalPassesCompleted\"][i])\n",
    "    elif data_Bundesliga_2122[\"Group\"][i] == '2':\n",
    "        group2.append(data_Bundesliga_2122[\"TotalPassesCompleted\"][i])\n",
    "    elif data_Bundesliga_2122[\"Group\"][i] == '3':\n",
    "        group3.append(data_Bundesliga_2122[\"TotalPassesCompleted\"][i])\n",
    "    elif data_Bundesliga_2122[\"Group\"][i] == '4':\n",
    "        group4.append(data_Bundesliga_2122[\"TotalPassesCompleted\"][i])"
   ]
  },
  {
   "cell_type": "markdown",
   "id": "911222a0",
   "metadata": {},
   "source": [
    "### <center>Test de Kruskal-Wallis\n",
    "* La hipótesis nula (H0): La media de los cuatro grupos es igual.\n",
    "\n",
    "* La hipótesis alternativa: (Ha): Almenos un grupo es diferente del resto."
   ]
  },
  {
   "cell_type": "code",
   "execution_count": 73,
   "id": "72935aba",
   "metadata": {},
   "outputs": [
    {
     "data": {
      "text/plain": [
       "KruskalResult(statistic=9.668421052631572, pvalue=0.02160552299344288)"
      ]
     },
     "execution_count": 73,
     "metadata": {},
     "output_type": "execute_result"
    }
   ],
   "source": [
    "kruskal(group1, group2, group3, group4)"
   ]
  },
  {
   "cell_type": "markdown",
   "id": "a02ccdf0",
   "metadata": {},
   "source": [
    "### <center>Prueba de Tukey"
   ]
  },
  {
   "cell_type": "code",
   "execution_count": 74,
   "id": "52d71836",
   "metadata": {},
   "outputs": [
    {
     "name": "stdout",
     "output_type": "stream",
     "text": [
      "    Multiple Comparison of Means - Tukey HSD, FWER=0.05    \n",
      "===========================================================\n",
      "group1 group2 meandiff p-adj     lower      upper    reject\n",
      "-----------------------------------------------------------\n",
      "group1 group2 -5089.35 0.0098  -9010.2292 -1168.4708   True\n",
      "group1 group3 -5307.75 0.0072  -9228.6292 -1386.8708   True\n",
      "group1 group4  -6191.5 0.0033 -10324.4696 -2058.5304   True\n",
      "group2 group3   -218.4 0.9981  -3915.0403  3478.2403  False\n",
      "group2 group4 -1102.15 0.8455  -5023.0292  2818.7292  False\n",
      "group3 group4  -883.75  0.912  -4804.6292  3037.1292  False\n",
      "-----------------------------------------------------------\n"
     ]
    }
   ],
   "source": [
    "# Juntar los datos en una sola lista\n",
    "data = group1 + group2 + group3 + group4\n",
    "\n",
    "# Crear una lista de etiquetas para los grupos\n",
    "labels = ['group1'] * len(group1) + ['group2'] * len(group2) + ['group3'] * len(group3) + ['group4'] * len(group4)\n",
    "\n",
    "# Crear un dataframe con los datos y las etiquetas\n",
    "df = pd.DataFrame({'data': data, 'labels': labels})\n",
    "\n",
    "# Realizar el test de Tukey\n",
    "tukey_results = mc.pairwise_tukeyhsd(df['data'], df['labels'])\n",
    "\n",
    "# Imprimir los resultados\n",
    "print(tukey_results)"
   ]
  },
  {
   "cell_type": "markdown",
   "id": "0b989613",
   "metadata": {},
   "source": [
    "#### Entre las 4 ligas que tienen la misma cantidad de equipos:"
   ]
  },
  {
   "cell_type": "markdown",
   "id": "bd17710f",
   "metadata": {},
   "source": [
    "### <center>Test de Kruskal-Wallis\n",
    "* La hipótesis nula (H0): La media de los cuatro grupos es igual.\n",
    "\n",
    "* La hipótesis alternativa: (Ha): Almenos un grupo es diferente del resto."
   ]
  },
  {
   "cell_type": "code",
   "execution_count": 75,
   "id": "0750debe",
   "metadata": {},
   "outputs": [
    {
     "data": {
      "text/plain": [
       "KruskalResult(statistic=2.720217067710594, pvalue=0.43680254167191446)"
      ]
     },
     "execution_count": 75,
     "metadata": {},
     "output_type": "execute_result"
    }
   ],
   "source": [
    "kruskal(data_PremierLeague_2122[\"TotalPassesCompleted\"], data_LaLiga_2122[\"TotalPassesCompleted\"], data_SerieA_2122[\"TotalPassesCompleted\"], data_Ligue1_2122[\"TotalPassesCompleted\"])"
   ]
  },
  {
   "cell_type": "markdown",
   "id": "9d46a0a1",
   "metadata": {},
   "source": [
    "## <center>Comaparación de faltas cometidas (FoulsCommited)"
   ]
  },
  {
   "cell_type": "code",
   "execution_count": 76,
   "id": "68e90fbb",
   "metadata": {},
   "outputs": [
    {
     "data": {
      "image/png": "[encoded data removed]",
      "text/plain": [
       "<Figure size 1400x300 with 6 Axes>"
      ]
     },
     "metadata": {},
     "output_type": "display_data"
    }
   ],
   "source": [
    "a = \"Group\"\n",
    "b = \"FoulsCommited\"\n",
    "L_PL = generador_de_tablas_grupos_premier(a, b)\n",
    "L_LL = generador_de_tablas_grupos_laliga(a, b)\n",
    "L_SA = generador_de_tablas_grupos_seriea(a, b)\n",
    "L_L1 = generador_de_tablas_grupos_ligue1(a, b)\n",
    "L_BL = generador_de_tablas_grupos_bundesliga(a, b)\n",
    "\n",
    "titulo = 'Comaparación de faltas realizadas (FoulsCommited)'\n",
    "variable = \"FoulsCommited\"\n",
    "crear_boxplot_grupos(titulo, variable, L_PL, L_LL, L_SA, L_L1, L_BL)"
   ]
  },
  {
   "cell_type": "markdown",
   "id": "a9b7c95a",
   "metadata": {},
   "source": [
    "### <center>Test de Shapiro-Wilk</center>"
   ]
  },
  {
   "cell_type": "code",
   "execution_count": 77,
   "id": "79d43e52",
   "metadata": {},
   "outputs": [],
   "source": [
    "columna_concreta = pd.concat([data_PremierLeague_2122[\"FoulsCommited\"], data_LaLiga_2122[\"FoulsCommited\"], data_SerieA_2122[\"FoulsCommited\"], data_Ligue1_2122[\"FoulsCommited\"], data_Bundesliga_2122[\"FoulsCommited\"]])"
   ]
  },
  {
   "cell_type": "code",
   "execution_count": 78,
   "id": "39ddab08",
   "metadata": {},
   "outputs": [
    {
     "data": {
      "text/plain": [
       "ShapiroResult(statistic=0.9852800369262695, pvalue=0.3464883267879486)"
      ]
     },
     "execution_count": 78,
     "metadata": {},
     "output_type": "execute_result"
    }
   ],
   "source": [
    "shapiro_test = stats.shapiro(columna_concreta)\n",
    "shapiro_test"
   ]
  },
  {
   "cell_type": "markdown",
   "id": "3a447b80",
   "metadata": {},
   "source": [
    "#### Entre los grupos de la Premier League:"
   ]
  },
  {
   "cell_type": "code",
   "execution_count": 79,
   "id": "80cab7bd",
   "metadata": {},
   "outputs": [],
   "source": [
    "# Creación de los 4 vectores nuevos\n",
    "group1 = []\n",
    "group2 = []\n",
    "group3 = []\n",
    "group4 = []\n",
    "\n",
    "# Iteración sobre las mediciones y categorías correspondientes\n",
    "for i in range(len(data_PremierLeague_2122[\"FoulsCommited\"])):\n",
    "    if data_PremierLeague_2122[\"Group\"][i] == '1':\n",
    "        group1.append(data_PremierLeague_2122[\"FoulsCommited\"][i])\n",
    "    elif data_PremierLeague_2122[\"Group\"][i] == '2':\n",
    "        group2.append(data_PremierLeague_2122[\"FoulsCommited\"][i])\n",
    "    elif data_PremierLeague_2122[\"Group\"][i] == '3':\n",
    "        group3.append(data_PremierLeague_2122[\"FoulsCommited\"][i])\n",
    "    elif data_PremierLeague_2122[\"Group\"][i] == '4':\n",
    "        group4.append(data_PremierLeague_2122[\"FoulsCommited\"][i])"
   ]
  },
  {
   "cell_type": "markdown",
   "id": "ffe1c67e",
   "metadata": {},
   "source": [
    "### <center>Test de Kruskal-Wallis\n",
    "* La hipótesis nula (H0): La media de los cuatro grupos es igual.\n",
    "\n",
    "* La hipótesis alternativa: (Ha): Almenos un grupo es diferente del resto."
   ]
  },
  {
   "cell_type": "code",
   "execution_count": 80,
   "id": "01ee4bf7",
   "metadata": {},
   "outputs": [
    {
     "data": {
      "text/plain": [
       "KruskalResult(statistic=4.411888638073746, pvalue=0.22028556282205158)"
      ]
     },
     "execution_count": 80,
     "metadata": {},
     "output_type": "execute_result"
    }
   ],
   "source": [
    "kruskal(group1, group2, group3, group4)"
   ]
  },
  {
   "cell_type": "markdown",
   "id": "e7960794",
   "metadata": {},
   "source": [
    "#### Entre los grupos de la La Liga:"
   ]
  },
  {
   "cell_type": "code",
   "execution_count": 81,
   "id": "6aec38bd",
   "metadata": {},
   "outputs": [],
   "source": [
    "# Creación de los 4 vectores nuevos\n",
    "group1 = []\n",
    "group2 = []\n",
    "group3 = []\n",
    "group4 = []\n",
    "\n",
    "# Iteración sobre las mediciones y categorías correspondientes\n",
    "for i in range(len(data_LaLiga_2122[\"FoulsCommited\"])):\n",
    "    if data_LaLiga_2122[\"Group\"][i] == '1':\n",
    "        group1.append(data_LaLiga_2122[\"FoulsCommited\"][i])\n",
    "    elif data_LaLiga_2122[\"Group\"][i] == '2':\n",
    "        group2.append(data_LaLiga_2122[\"FoulsCommited\"][i])\n",
    "    elif data_LaLiga_2122[\"Group\"][i] == '3':\n",
    "        group3.append(data_LaLiga_2122[\"FoulsCommited\"][i])\n",
    "    elif data_LaLiga_2122[\"Group\"][i] == '4':\n",
    "        group4.append(data_LaLiga_2122[\"FoulsCommited\"][i])"
   ]
  },
  {
   "cell_type": "markdown",
   "id": "bcf37bee",
   "metadata": {},
   "source": [
    "### <center>Test de Kruskal-Wallis\n",
    "* La hipótesis nula (H0): La media de los cuatro grupos es igual.\n",
    "\n",
    "* La hipótesis alternativa: (Ha): Almenos un grupo es diferente del resto."
   ]
  },
  {
   "cell_type": "code",
   "execution_count": 82,
   "id": "5acc8d66",
   "metadata": {},
   "outputs": [
    {
     "data": {
      "text/plain": [
       "KruskalResult(statistic=5.079999999999998, pvalue=0.16603200838513346)"
      ]
     },
     "execution_count": 82,
     "metadata": {},
     "output_type": "execute_result"
    }
   ],
   "source": [
    "kruskal(group1, group2, group3, group4)"
   ]
  },
  {
   "cell_type": "markdown",
   "id": "c1d2bad3",
   "metadata": {},
   "source": [
    "#### Entre los grupos de la Serie A:"
   ]
  },
  {
   "cell_type": "code",
   "execution_count": 83,
   "id": "83c88252",
   "metadata": {},
   "outputs": [],
   "source": [
    "# Creación de los 4 vectores nuevos\n",
    "group1 = []\n",
    "group2 = []\n",
    "group3 = []\n",
    "group4 = []\n",
    "\n",
    "# Iteración sobre las mediciones y categorías correspondientes\n",
    "for i in range(len(data_SerieA_2122[\"FoulsCommited\"])):\n",
    "    if data_SerieA_2122[\"Group\"][i] == '1':\n",
    "        group1.append(data_SerieA_2122[\"FoulsCommited\"][i])\n",
    "    elif data_SerieA_2122[\"Group\"][i] == '2':\n",
    "        group2.append(data_SerieA_2122[\"FoulsCommited\"][i])\n",
    "    elif data_SerieA_2122[\"Group\"][i] == '3':\n",
    "        group3.append(data_SerieA_2122[\"FoulsCommited\"][i])\n",
    "    elif data_SerieA_2122[\"Group\"][i] == '4':\n",
    "        group4.append(data_SerieA_2122[\"FoulsCommited\"][i])"
   ]
  },
  {
   "cell_type": "markdown",
   "id": "baeb9b7e",
   "metadata": {},
   "source": [
    "### <center>Test de Kruskal-Wallis\n",
    "* La hipótesis nula (H0): La media de los cuatro grupos es igual.\n",
    "\n",
    "* La hipótesis alternativa: (Ha): Almenos un grupo es diferente del resto."
   ]
  },
  {
   "cell_type": "code",
   "execution_count": 84,
   "id": "299aaf4d",
   "metadata": {},
   "outputs": [
    {
     "data": {
      "text/plain": [
       "KruskalResult(statistic=6.333333333333327, pvalue=0.09647232237962843)"
      ]
     },
     "execution_count": 84,
     "metadata": {},
     "output_type": "execute_result"
    }
   ],
   "source": [
    "kruskal(group1, group2, group3, group4)"
   ]
  },
  {
   "cell_type": "markdown",
   "id": "05459e1d",
   "metadata": {},
   "source": [
    "#### Entre los grupos de la Ligue 1:"
   ]
  },
  {
   "cell_type": "code",
   "execution_count": 85,
   "id": "c38fca0a",
   "metadata": {},
   "outputs": [],
   "source": [
    "# Creación de los 4 vectores nuevos\n",
    "group1 = []\n",
    "group2 = []\n",
    "group3 = []\n",
    "group4 = []\n",
    "\n",
    "# Iteración sobre las mediciones y categorías correspondientes\n",
    "for i in range(len(data_Ligue1_2122[\"FoulsCommited\"])):\n",
    "    if data_Ligue1_2122[\"Group\"][i] == '1':\n",
    "        group1.append(data_Ligue1_2122[\"FoulsCommited\"][i])\n",
    "    elif data_Ligue1_2122[\"Group\"][i] == '2':\n",
    "        group2.append(data_Ligue1_2122[\"FoulsCommited\"][i])\n",
    "    elif data_Ligue1_2122[\"Group\"][i] == '3':\n",
    "        group3.append(data_Ligue1_2122[\"FoulsCommited\"][i])\n",
    "    elif data_Ligue1_2122[\"Group\"][i] == '4':\n",
    "        group4.append(data_Ligue1_2122[\"FoulsCommited\"][i])"
   ]
  },
  {
   "cell_type": "markdown",
   "id": "d83a4758",
   "metadata": {},
   "source": [
    "### <center>Test de Kruskal-Wallis\n",
    "* La hipótesis nula (H0): La media de los cuatro grupos es igual.\n",
    "\n",
    "* La hipótesis alternativa: (Ha): Almenos un grupo es diferente del resto."
   ]
  },
  {
   "cell_type": "code",
   "execution_count": 86,
   "id": "33c5ff33",
   "metadata": {},
   "outputs": [
    {
     "data": {
      "text/plain": [
       "KruskalResult(statistic=2.7257142857142895, pvalue=0.43587509351293774)"
      ]
     },
     "execution_count": 86,
     "metadata": {},
     "output_type": "execute_result"
    }
   ],
   "source": [
    "kruskal(group1, group2, group3, group4)"
   ]
  },
  {
   "cell_type": "markdown",
   "id": "ba2c7916",
   "metadata": {},
   "source": [
    "#### Entre los grupos de la Bundesliga:"
   ]
  },
  {
   "cell_type": "code",
   "execution_count": 87,
   "id": "81ce7efe",
   "metadata": {},
   "outputs": [],
   "source": [
    "# Creación de los 4 vectores nuevos\n",
    "group1 = []\n",
    "group2 = []\n",
    "group3 = []\n",
    "group4 = []\n",
    "\n",
    "# Iteración sobre las mediciones y categorías correspondientes\n",
    "for i in range(len(data_Bundesliga_2122[\"FoulsCommited\"])):\n",
    "    if data_Bundesliga_2122[\"Group\"][i] == '1':\n",
    "        group1.append(data_Bundesliga_2122[\"FoulsCommited\"][i])\n",
    "    elif data_Bundesliga_2122[\"Group\"][i] == '2':\n",
    "        group2.append(data_Bundesliga_2122[\"FoulsCommited\"][i])\n",
    "    elif data_Bundesliga_2122[\"Group\"][i] == '3':\n",
    "        group3.append(data_Bundesliga_2122[\"FoulsCommited\"][i])\n",
    "    elif data_Bundesliga_2122[\"Group\"][i] == '4':\n",
    "        group4.append(data_Bundesliga_2122[\"FoulsCommited\"][i])"
   ]
  },
  {
   "cell_type": "markdown",
   "id": "e2998c76",
   "metadata": {},
   "source": [
    "### <center>Test de Kruskal-Wallis\n",
    "* La hipótesis nula (H0): La media de los cuatro grupos es igual.\n",
    "\n",
    "* La hipótesis alternativa: (Ha): Almenos un grupo es diferente del resto."
   ]
  },
  {
   "cell_type": "code",
   "execution_count": 88,
   "id": "76ac252c",
   "metadata": {},
   "outputs": [
    {
     "data": {
      "text/plain": [
       "KruskalResult(statistic=7.375438596491222, pvalue=0.06084684161893924)"
      ]
     },
     "execution_count": 88,
     "metadata": {},
     "output_type": "execute_result"
    }
   ],
   "source": [
    "kruskal(group1, group2, group3, group4)"
   ]
  },
  {
   "cell_type": "markdown",
   "id": "98eeceee",
   "metadata": {},
   "source": [
    "#### Entre las 4 ligas que tienen la misma cantidad de equipos:"
   ]
  },
  {
   "cell_type": "markdown",
   "id": "81aa67fb",
   "metadata": {},
   "source": [
    "### <center>Test de Kruskal-Wallis\n",
    "* La hipótesis nula (H0): La media de los cuatro grupos es igual.\n",
    "\n",
    "* La hipótesis alternativa: (Ha): Almenos un grupo es diferente del resto."
   ]
  },
  {
   "cell_type": "code",
   "execution_count": 89,
   "id": "b90bb5a8",
   "metadata": {},
   "outputs": [
    {
     "data": {
      "text/plain": [
       "KruskalResult(statistic=45.43053286134583, pvalue=7.494821763858425e-10)"
      ]
     },
     "execution_count": 89,
     "metadata": {},
     "output_type": "execute_result"
    }
   ],
   "source": [
    "kruskal(data_PremierLeague_2122[\"FoulsCommited\"], data_LaLiga_2122[\"FoulsCommited\"], data_SerieA_2122[\"FoulsCommited\"], data_Ligue1_2122[\"FoulsCommited\"])"
   ]
  },
  {
   "cell_type": "markdown",
   "id": "c0ceb6de",
   "metadata": {},
   "source": [
    "### <center>Prueba de Tukey"
   ]
  },
  {
   "cell_type": "code",
   "execution_count": 90,
   "id": "d171ab9a",
   "metadata": {
    "scrolled": true
   },
   "outputs": [
    {
     "name": "stdout",
     "output_type": "stream",
     "text": [
      "          Multiple Comparison of Means - Tukey HSD, FWER=0.05          \n",
      "=======================================================================\n",
      "    group1         group2     meandiff p-adj    lower    upper   reject\n",
      "-----------------------------------------------------------------------\n",
      "    Bundesliga        La Liga  98.8833    0.0   57.8346 139.9321   True\n",
      "    Bundesliga        Ligue 1  40.3333 0.0566   -0.7154  81.3821  False\n",
      "    Bundesliga Premier League -19.8167 0.6652  -60.8654  21.2321  False\n",
      "    Bundesliga        Serie A 101.8833    0.0   60.8346 142.9321   True\n",
      "       La Liga        Ligue 1   -58.55 0.0009  -98.5039 -18.5961   True\n",
      "       La Liga Premier League   -118.7    0.0 -158.6539 -78.7461   True\n",
      "       La Liga        Serie A      3.0 0.9996  -36.9539  42.9539  False\n",
      "       Ligue 1 Premier League   -60.15 0.0006 -100.1039 -20.1961   True\n",
      "       Ligue 1        Serie A    61.55 0.0004   21.5961 101.5039   True\n",
      "Premier League        Serie A    121.7    0.0   81.7461 161.6539   True\n",
      "-----------------------------------------------------------------------\n"
     ]
    }
   ],
   "source": [
    "# Juntar los datos en una sola lista\n",
    "data = list(data_PremierLeague_2122[\"FoulsCommited\"]) + list(data_LaLiga_2122[\"FoulsCommited\"]) + list(data_SerieA_2122[\"FoulsCommited\"]) + list(data_Ligue1_2122[\"FoulsCommited\"]) + list(data_Bundesliga_2122[\"FoulsCommited\"])\n",
    "\n",
    "# Crear una lista de etiquetas para los grupos\n",
    "labels = ['Premier League'] * len(data_PremierLeague_2122[\"FoulsCommited\"]) + ['La Liga'] * len(data_LaLiga_2122[\"FoulsCommited\"]) + ['Serie A'] * len(data_SerieA_2122[\"FoulsCommited\"]) + ['Ligue 1'] * len(data_Ligue1_2122[\"FoulsCommited\"]) + ['Bundesliga'] * len(data_Bundesliga_2122[\"FoulsCommited\"])\n",
    "\n",
    "# Crear un dataframe con los datos y las etiquetas\n",
    "df = pd.DataFrame({'data': data, 'labels': labels})\n",
    "\n",
    "# Realizar el test de Tukey\n",
    "tukey_results = mc.pairwise_tukeyhsd(df['data'], df['labels'])\n",
    "\n",
    "# Imprimir los resultados\n",
    "print(tukey_results)\n"
   ]
  }
 ],
 "metadata": {
  "kernelspec": {
   "display_name": "Python 3 (ipykernel)",
   "language": "python",
   "name": "python3"
  },
  "language_info": {
   "codemirror_mode": {
    "name": "ipython",
    "version": 3
   },
   "file_extension": ".py",
   "mimetype": "text/x-python",
   "name": "python",
   "nbconvert_exporter": "python",
   "pygments_lexer": "ipython3",
   "version": "3.9.13"
  }
 },
 "nbformat": 4,
 "nbformat_minor": 5
}
